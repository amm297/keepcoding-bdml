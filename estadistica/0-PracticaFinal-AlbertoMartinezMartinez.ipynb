{
 "cells": [
  {
   "cell_type": "code",
   "execution_count": 1,
   "metadata": {},
   "outputs": [],
   "source": [
    "library(ggplot2)\n",
    "options(repr.plot.height=8,repr.plot.width=14)\n",
    "fillColor <- '#7afaad'\n",
    "borderColor <- '#000000'"
   ]
  },
  {
   "cell_type": "markdown",
   "metadata": {},
   "source": [
    "Cargar los datos en un dataframe llamado: airbnb"
   ]
  },
  {
   "cell_type": "code",
   "execution_count": 2,
   "metadata": {},
   "outputs": [],
   "source": [
    "airbnb<-read.csv('data//airbnb.csv',sep = ',')"
   ]
  },
  {
   "cell_type": "markdown",
   "metadata": {},
   "source": [
    "Mostrar las primeras 6 filas del dataframe"
   ]
  },
  {
   "cell_type": "code",
   "execution_count": 3,
   "metadata": {
    "scrolled": true
   },
   "outputs": [
    {
     "data": {
      "text/html": [
       "<table>\n",
       "<caption>A data.frame: 1 × 13</caption>\n",
       "<thead>\n",
       "\t<tr><th></th><th scope=col>Zipcode</th><th scope=col>Neighbourhood.Cleansed</th><th scope=col>Property.Type</th><th scope=col>Room.Type</th><th scope=col>Accommodates</th><th scope=col>Bathrooms</th><th scope=col>Bedrooms</th><th scope=col>Beds</th><th scope=col>Bed.Type</th><th scope=col>Amenities</th><th scope=col>Square.Feet</th><th scope=col>Price</th><th scope=col>Review.Scores.Rating</th></tr>\n",
       "\t<tr><th></th><th scope=col>&lt;fct&gt;</th><th scope=col>&lt;fct&gt;</th><th scope=col>&lt;fct&gt;</th><th scope=col>&lt;fct&gt;</th><th scope=col>&lt;int&gt;</th><th scope=col>&lt;dbl&gt;</th><th scope=col>&lt;int&gt;</th><th scope=col>&lt;int&gt;</th><th scope=col>&lt;fct&gt;</th><th scope=col>&lt;fct&gt;</th><th scope=col>&lt;int&gt;</th><th scope=col>&lt;int&gt;</th><th scope=col>&lt;int&gt;</th></tr>\n",
       "</thead>\n",
       "<tbody>\n",
       "\t<tr><th scope=row>1</th><td>28004</td><td>Universidad</td><td>Apartment</td><td>Private room</td><td>2</td><td>2</td><td>1</td><td>1</td><td>Real Bed</td><td>TV,Wireless Internet,Kitchen,Pets allowed,Pets live on this property,Buzzer/wireless intercom,Heating,Suitable for events,Washer,First aid kit,Essentials,Lock on bedroom door,Iron</td><td>NA</td><td>35</td><td>NA</td></tr>\n",
       "</tbody>\n",
       "</table>\n"
      ],
      "text/latex": [
       "A data.frame: 1 × 13\n",
       "\\begin{tabular}{r|lllllllllllll}\n",
       "  & Zipcode & Neighbourhood.Cleansed & Property.Type & Room.Type & Accommodates & Bathrooms & Bedrooms & Beds & Bed.Type & Amenities & Square.Feet & Price & Review.Scores.Rating\\\\\n",
       "  & <fct> & <fct> & <fct> & <fct> & <int> & <dbl> & <int> & <int> & <fct> & <fct> & <int> & <int> & <int>\\\\\n",
       "\\hline\n",
       "\t1 & 28004 & Universidad & Apartment & Private room & 2 & 2 & 1 & 1 & Real Bed & TV,Wireless Internet,Kitchen,Pets allowed,Pets live on this property,Buzzer/wireless intercom,Heating,Suitable for events,Washer,First aid kit,Essentials,Lock on bedroom door,Iron & NA & 35 & NA\\\\\n",
       "\\end{tabular}\n"
      ],
      "text/markdown": [
       "\n",
       "A data.frame: 1 × 13\n",
       "\n",
       "| <!--/--> | Zipcode &lt;fct&gt; | Neighbourhood.Cleansed &lt;fct&gt; | Property.Type &lt;fct&gt; | Room.Type &lt;fct&gt; | Accommodates &lt;int&gt; | Bathrooms &lt;dbl&gt; | Bedrooms &lt;int&gt; | Beds &lt;int&gt; | Bed.Type &lt;fct&gt; | Amenities &lt;fct&gt; | Square.Feet &lt;int&gt; | Price &lt;int&gt; | Review.Scores.Rating &lt;int&gt; |\n",
       "|---|---|---|---|---|---|---|---|---|---|---|---|---|---|\n",
       "| 1 | 28004 | Universidad | Apartment | Private room | 2 | 2 | 1 | 1 | Real Bed | TV,Wireless Internet,Kitchen,Pets allowed,Pets live on this property,Buzzer/wireless intercom,Heating,Suitable for events,Washer,First aid kit,Essentials,Lock on bedroom door,Iron | NA | 35 | NA |\n",
       "\n"
      ],
      "text/plain": [
       "  Zipcode Neighbourhood.Cleansed Property.Type Room.Type    Accommodates\n",
       "1 28004   Universidad            Apartment     Private room 2           \n",
       "  Bathrooms Bedrooms Beds Bed.Type\n",
       "1 2         1        1    Real Bed\n",
       "  Amenities                                                                                                                                                                          \n",
       "1 TV,Wireless Internet,Kitchen,Pets allowed,Pets live on this property,Buzzer/wireless intercom,Heating,Suitable for events,Washer,First aid kit,Essentials,Lock on bedroom door,Iron\n",
       "  Square.Feet Price Review.Scores.Rating\n",
       "1 NA          35    NA                  "
      ]
     },
     "metadata": {},
     "output_type": "display_data"
    },
    {
     "data": {
      "text/html": [
       "<table>\n",
       "<caption>A data.frame: 6 × 13</caption>\n",
       "<thead>\n",
       "\t<tr><th></th><th scope=col>Zipcode</th><th scope=col>Neighbourhood.Cleansed</th><th scope=col>Property.Type</th><th scope=col>Room.Type</th><th scope=col>Accommodates</th><th scope=col>Bathrooms</th><th scope=col>Bedrooms</th><th scope=col>Beds</th><th scope=col>Bed.Type</th><th scope=col>Amenities</th><th scope=col>Square.Feet</th><th scope=col>Price</th><th scope=col>Review.Scores.Rating</th></tr>\n",
       "\t<tr><th></th><th scope=col>&lt;fct&gt;</th><th scope=col>&lt;fct&gt;</th><th scope=col>&lt;fct&gt;</th><th scope=col>&lt;fct&gt;</th><th scope=col>&lt;int&gt;</th><th scope=col>&lt;dbl&gt;</th><th scope=col>&lt;int&gt;</th><th scope=col>&lt;int&gt;</th><th scope=col>&lt;fct&gt;</th><th scope=col>&lt;fct&gt;</th><th scope=col>&lt;int&gt;</th><th scope=col>&lt;int&gt;</th><th scope=col>&lt;int&gt;</th></tr>\n",
       "</thead>\n",
       "<tbody>\n",
       "\t<tr><th scope=row>1</th><td>28004</td><td>Universidad</td><td>Apartment</td><td>Private room   </td><td>2</td><td>2</td><td>1</td><td>1</td><td>Real Bed</td><td>TV,Wireless Internet,Kitchen,Pets allowed,Pets live on this property,Buzzer/wireless intercom,Heating,Suitable for events,Washer,First aid kit,Essentials,Lock on bedroom door,Iron                                                                                                                                                                             </td><td> NA</td><td>35</td><td> NA</td></tr>\n",
       "\t<tr><th scope=row>2</th><td>28004</td><td>Universidad</td><td>Apartment</td><td>Entire home/apt</td><td>6</td><td>1</td><td>3</td><td>5</td><td>Real Bed</td><td>TV,Internet,Wireless Internet,Air conditioning,Kitchen,Indoor fireplace,Heating,Family/kid friendly,Washer,Dryer,Smoke detector,Carbon monoxide detector,Essentials,Shampoo                                                                                                                                                                                     </td><td> NA</td><td>92</td><td> 96</td></tr>\n",
       "\t<tr><th scope=row>3</th><td>28004</td><td>Universidad</td><td>Apartment</td><td>Entire home/apt</td><td>3</td><td>1</td><td>2</td><td>2</td><td>Real Bed</td><td>TV,Internet,Wireless Internet,Air conditioning,Kitchen,Doorman,Heating,Family/kid friendly,Washer,Essentials,Shampoo,Hangers,Hair dryer,Iron,Laptop friendly workspace                                                                                                                                                                                          </td><td> NA</td><td>55</td><td> 91</td></tr>\n",
       "\t<tr><th scope=row>4</th><td>28004</td><td>Universidad</td><td>Loft     </td><td>Entire home/apt</td><td>3</td><td>2</td><td>1</td><td>1</td><td>Real Bed</td><td>TV,Internet,Wireless Internet,Air conditioning,Kitchen,Pets allowed,Breakfast,Elevator in building,Indoor fireplace,Buzzer/wireless intercom,Heating,Washer,Essentials,Shampoo,Hangers,Hair dryer,Iron,Laptop friendly workspace,translation missing: en.hosting_amenity_49,translation missing: en.hosting_amenity_50                                          </td><td> NA</td><td>60</td><td>100</td></tr>\n",
       "\t<tr><th scope=row>5</th><td>28015</td><td>Universidad</td><td>Apartment</td><td>Entire home/apt</td><td>5</td><td>1</td><td>1</td><td>1</td><td>Real Bed</td><td>TV,Wireless Internet,Air conditioning,Kitchen,Smoking allowed,Pets allowed,Elevator in building,Heating,Family/kid friendly,Washer,Essentials,Iron                                                                                                                                                                                                              </td><td>538</td><td>75</td><td> 90</td></tr>\n",
       "\t<tr><th scope=row>6</th><td>28004</td><td>Universidad</td><td>Apartment</td><td>Entire home/apt</td><td>2</td><td>1</td><td>0</td><td>1</td><td>Real Bed</td><td>TV,Cable TV,Internet,Wireless Internet,Air conditioning,Wheelchair accessible,Kitchen,Doorman,Elevator in building,Buzzer/wireless intercom,Heating,Washer,Smoke detector,Carbon monoxide detector,First aid kit,Safety card,Fire extinguisher,Essentials,Shampoo,24-hour check-in,Hangers,Hair dryer,Iron,Laptop friendly workspace,Self Check-In,Doorman Entry</td><td> NA</td><td>55</td><td> 95</td></tr>\n",
       "</tbody>\n",
       "</table>\n"
      ],
      "text/latex": [
       "A data.frame: 6 × 13\n",
       "\\begin{tabular}{r|lllllllllllll}\n",
       "  & Zipcode & Neighbourhood.Cleansed & Property.Type & Room.Type & Accommodates & Bathrooms & Bedrooms & Beds & Bed.Type & Amenities & Square.Feet & Price & Review.Scores.Rating\\\\\n",
       "  & <fct> & <fct> & <fct> & <fct> & <int> & <dbl> & <int> & <int> & <fct> & <fct> & <int> & <int> & <int>\\\\\n",
       "\\hline\n",
       "\t1 & 28004 & Universidad & Apartment & Private room    & 2 & 2 & 1 & 1 & Real Bed & TV,Wireless Internet,Kitchen,Pets allowed,Pets live on this property,Buzzer/wireless intercom,Heating,Suitable for events,Washer,First aid kit,Essentials,Lock on bedroom door,Iron                                                                                                                                                                              &  NA & 35 &  NA\\\\\n",
       "\t2 & 28004 & Universidad & Apartment & Entire home/apt & 6 & 1 & 3 & 5 & Real Bed & TV,Internet,Wireless Internet,Air conditioning,Kitchen,Indoor fireplace,Heating,Family/kid friendly,Washer,Dryer,Smoke detector,Carbon monoxide detector,Essentials,Shampoo                                                                                                                                                                                      &  NA & 92 &  96\\\\\n",
       "\t3 & 28004 & Universidad & Apartment & Entire home/apt & 3 & 1 & 2 & 2 & Real Bed & TV,Internet,Wireless Internet,Air conditioning,Kitchen,Doorman,Heating,Family/kid friendly,Washer,Essentials,Shampoo,Hangers,Hair dryer,Iron,Laptop friendly workspace                                                                                                                                                                                           &  NA & 55 &  91\\\\\n",
       "\t4 & 28004 & Universidad & Loft      & Entire home/apt & 3 & 2 & 1 & 1 & Real Bed & TV,Internet,Wireless Internet,Air conditioning,Kitchen,Pets allowed,Breakfast,Elevator in building,Indoor fireplace,Buzzer/wireless intercom,Heating,Washer,Essentials,Shampoo,Hangers,Hair dryer,Iron,Laptop friendly workspace,translation missing: en.hosting\\_amenity\\_49,translation missing: en.hosting\\_amenity\\_50                                           &  NA & 60 & 100\\\\\n",
       "\t5 & 28015 & Universidad & Apartment & Entire home/apt & 5 & 1 & 1 & 1 & Real Bed & TV,Wireless Internet,Air conditioning,Kitchen,Smoking allowed,Pets allowed,Elevator in building,Heating,Family/kid friendly,Washer,Essentials,Iron                                                                                                                                                                                                               & 538 & 75 &  90\\\\\n",
       "\t6 & 28004 & Universidad & Apartment & Entire home/apt & 2 & 1 & 0 & 1 & Real Bed & TV,Cable TV,Internet,Wireless Internet,Air conditioning,Wheelchair accessible,Kitchen,Doorman,Elevator in building,Buzzer/wireless intercom,Heating,Washer,Smoke detector,Carbon monoxide detector,First aid kit,Safety card,Fire extinguisher,Essentials,Shampoo,24-hour check-in,Hangers,Hair dryer,Iron,Laptop friendly workspace,Self Check-In,Doorman Entry &  NA & 55 &  95\\\\\n",
       "\\end{tabular}\n"
      ],
      "text/markdown": [
       "\n",
       "A data.frame: 6 × 13\n",
       "\n",
       "| <!--/--> | Zipcode &lt;fct&gt; | Neighbourhood.Cleansed &lt;fct&gt; | Property.Type &lt;fct&gt; | Room.Type &lt;fct&gt; | Accommodates &lt;int&gt; | Bathrooms &lt;dbl&gt; | Bedrooms &lt;int&gt; | Beds &lt;int&gt; | Bed.Type &lt;fct&gt; | Amenities &lt;fct&gt; | Square.Feet &lt;int&gt; | Price &lt;int&gt; | Review.Scores.Rating &lt;int&gt; |\n",
       "|---|---|---|---|---|---|---|---|---|---|---|---|---|---|\n",
       "| 1 | 28004 | Universidad | Apartment | Private room    | 2 | 2 | 1 | 1 | Real Bed | TV,Wireless Internet,Kitchen,Pets allowed,Pets live on this property,Buzzer/wireless intercom,Heating,Suitable for events,Washer,First aid kit,Essentials,Lock on bedroom door,Iron                                                                                                                                                                              |  NA | 35 |  NA |\n",
       "| 2 | 28004 | Universidad | Apartment | Entire home/apt | 6 | 1 | 3 | 5 | Real Bed | TV,Internet,Wireless Internet,Air conditioning,Kitchen,Indoor fireplace,Heating,Family/kid friendly,Washer,Dryer,Smoke detector,Carbon monoxide detector,Essentials,Shampoo                                                                                                                                                                                      |  NA | 92 |  96 |\n",
       "| 3 | 28004 | Universidad | Apartment | Entire home/apt | 3 | 1 | 2 | 2 | Real Bed | TV,Internet,Wireless Internet,Air conditioning,Kitchen,Doorman,Heating,Family/kid friendly,Washer,Essentials,Shampoo,Hangers,Hair dryer,Iron,Laptop friendly workspace                                                                                                                                                                                           |  NA | 55 |  91 |\n",
       "| 4 | 28004 | Universidad | Loft      | Entire home/apt | 3 | 2 | 1 | 1 | Real Bed | TV,Internet,Wireless Internet,Air conditioning,Kitchen,Pets allowed,Breakfast,Elevator in building,Indoor fireplace,Buzzer/wireless intercom,Heating,Washer,Essentials,Shampoo,Hangers,Hair dryer,Iron,Laptop friendly workspace,translation missing: en.hosting_amenity_49,translation missing: en.hosting_amenity_50                                           |  NA | 60 | 100 |\n",
       "| 5 | 28015 | Universidad | Apartment | Entire home/apt | 5 | 1 | 1 | 1 | Real Bed | TV,Wireless Internet,Air conditioning,Kitchen,Smoking allowed,Pets allowed,Elevator in building,Heating,Family/kid friendly,Washer,Essentials,Iron                                                                                                                                                                                                               | 538 | 75 |  90 |\n",
       "| 6 | 28004 | Universidad | Apartment | Entire home/apt | 2 | 1 | 0 | 1 | Real Bed | TV,Cable TV,Internet,Wireless Internet,Air conditioning,Wheelchair accessible,Kitchen,Doorman,Elevator in building,Buzzer/wireless intercom,Heating,Washer,Smoke detector,Carbon monoxide detector,First aid kit,Safety card,Fire extinguisher,Essentials,Shampoo,24-hour check-in,Hangers,Hair dryer,Iron,Laptop friendly workspace,Self Check-In,Doorman Entry |  NA | 55 |  95 |\n",
       "\n"
      ],
      "text/plain": [
       "  Zipcode Neighbourhood.Cleansed Property.Type Room.Type       Accommodates\n",
       "1 28004   Universidad            Apartment     Private room    2           \n",
       "2 28004   Universidad            Apartment     Entire home/apt 6           \n",
       "3 28004   Universidad            Apartment     Entire home/apt 3           \n",
       "4 28004   Universidad            Loft          Entire home/apt 3           \n",
       "5 28015   Universidad            Apartment     Entire home/apt 5           \n",
       "6 28004   Universidad            Apartment     Entire home/apt 2           \n",
       "  Bathrooms Bedrooms Beds Bed.Type\n",
       "1 2         1        1    Real Bed\n",
       "2 1         3        5    Real Bed\n",
       "3 1         2        2    Real Bed\n",
       "4 2         1        1    Real Bed\n",
       "5 1         1        1    Real Bed\n",
       "6 1         0        1    Real Bed\n",
       "  Amenities                                                                                                                                                                                                                                                                                                                                                       \n",
       "1 TV,Wireless Internet,Kitchen,Pets allowed,Pets live on this property,Buzzer/wireless intercom,Heating,Suitable for events,Washer,First aid kit,Essentials,Lock on bedroom door,Iron                                                                                                                                                                             \n",
       "2 TV,Internet,Wireless Internet,Air conditioning,Kitchen,Indoor fireplace,Heating,Family/kid friendly,Washer,Dryer,Smoke detector,Carbon monoxide detector,Essentials,Shampoo                                                                                                                                                                                     \n",
       "3 TV,Internet,Wireless Internet,Air conditioning,Kitchen,Doorman,Heating,Family/kid friendly,Washer,Essentials,Shampoo,Hangers,Hair dryer,Iron,Laptop friendly workspace                                                                                                                                                                                          \n",
       "4 TV,Internet,Wireless Internet,Air conditioning,Kitchen,Pets allowed,Breakfast,Elevator in building,Indoor fireplace,Buzzer/wireless intercom,Heating,Washer,Essentials,Shampoo,Hangers,Hair dryer,Iron,Laptop friendly workspace,translation missing: en.hosting_amenity_49,translation missing: en.hosting_amenity_50                                          \n",
       "5 TV,Wireless Internet,Air conditioning,Kitchen,Smoking allowed,Pets allowed,Elevator in building,Heating,Family/kid friendly,Washer,Essentials,Iron                                                                                                                                                                                                              \n",
       "6 TV,Cable TV,Internet,Wireless Internet,Air conditioning,Wheelchair accessible,Kitchen,Doorman,Elevator in building,Buzzer/wireless intercom,Heating,Washer,Smoke detector,Carbon monoxide detector,First aid kit,Safety card,Fire extinguisher,Essentials,Shampoo,24-hour check-in,Hangers,Hair dryer,Iron,Laptop friendly workspace,Self Check-In,Doorman Entry\n",
       "  Square.Feet Price Review.Scores.Rating\n",
       "1  NA         35     NA                 \n",
       "2  NA         92     96                 \n",
       "3  NA         55     91                 \n",
       "4  NA         60    100                 \n",
       "5 538         75     90                 \n",
       "6  NA         55     95                 "
      ]
     },
     "metadata": {},
     "output_type": "display_data"
    }
   ],
   "source": [
    "# Para mostrar las n primeras lineas podremos usar la funcion ya definida head, a la que se le pasa dicho\n",
    "# parametro indicando las filas a mostrar o podemos usar la version directa usanto data[1:n,], donde data serán\n",
    "# los datos que estemos manejando\n",
    "head(airbnb, n=1)\n",
    "airbnb[1:6, ]"
   ]
  },
  {
   "cell_type": "markdown",
   "metadata": {},
   "source": [
    "Renombrar las columnas de la siguiente forma:\n",
    "\n",
    "| Nombre original | Nuevo nombre |\n",
    "| - | - |\n",
    "| Zipcode | CodigoPostal |\n",
    "| Neighbourhood.Cleansed | Barrio |\n",
    "| Property.Type\t| TipoPropiedad |\n",
    "| Room.Type | TipoAlquiler |\n",
    "| Accommodates | MaxOcupantes |\n",
    "| Bathrooms\t| NumBanyos |\n",
    "| Bedrooms\t| NumDormitorios |\n",
    "| Beds\t|  NumCamas |\n",
    "| Bed.Type\t| TipoCama |\n",
    "| Amenities | Comodidades |\n",
    "| Square.Feet | PiesCuadrados |\n",
    "| Price\t| Precio |\n",
    "| Review.Scores.Rating | Puntuacion |"
   ]
  },
  {
   "cell_type": "code",
   "execution_count": 4,
   "metadata": {},
   "outputs": [
    {
     "data": {
      "text/html": [
       "<style>\n",
       ".list-inline {list-style: none; margin:0; padding: 0}\n",
       ".list-inline>li {display: inline-block}\n",
       ".list-inline>li:not(:last-child)::after {content: \"\\00b7\"; padding: 0 .5ex}\n",
       "</style>\n",
       "<ol class=list-inline><li>'CodigoPostal'</li><li>'Barrio'</li><li>'TipoPropiedad'</li><li>'TipoAlquiler'</li><li>'MaxOcupantes'</li><li>'NumBanyos'</li><li>'NumDormitorios'</li><li>'NumCamas'</li><li>'TipoCama'</li><li>'Comodidades'</li><li>'PiesCuadrados'</li><li>'Precio'</li><li>'Puntuacion'</li></ol>\n"
      ],
      "text/latex": [
       "\\begin{enumerate*}\n",
       "\\item 'CodigoPostal'\n",
       "\\item 'Barrio'\n",
       "\\item 'TipoPropiedad'\n",
       "\\item 'TipoAlquiler'\n",
       "\\item 'MaxOcupantes'\n",
       "\\item 'NumBanyos'\n",
       "\\item 'NumDormitorios'\n",
       "\\item 'NumCamas'\n",
       "\\item 'TipoCama'\n",
       "\\item 'Comodidades'\n",
       "\\item 'PiesCuadrados'\n",
       "\\item 'Precio'\n",
       "\\item 'Puntuacion'\n",
       "\\end{enumerate*}\n"
      ],
      "text/markdown": [
       "1. 'CodigoPostal'\n",
       "2. 'Barrio'\n",
       "3. 'TipoPropiedad'\n",
       "4. 'TipoAlquiler'\n",
       "5. 'MaxOcupantes'\n",
       "6. 'NumBanyos'\n",
       "7. 'NumDormitorios'\n",
       "8. 'NumCamas'\n",
       "9. 'TipoCama'\n",
       "10. 'Comodidades'\n",
       "11. 'PiesCuadrados'\n",
       "12. 'Precio'\n",
       "13. 'Puntuacion'\n",
       "\n",
       "\n"
      ],
      "text/plain": [
       " [1] \"CodigoPostal\"   \"Barrio\"         \"TipoPropiedad\"  \"TipoAlquiler\"  \n",
       " [5] \"MaxOcupantes\"   \"NumBanyos\"      \"NumDormitorios\" \"NumCamas\"      \n",
       " [9] \"TipoCama\"       \"Comodidades\"    \"PiesCuadrados\"  \"Precio\"        \n",
       "[13] \"Puntuacion\"    "
      ]
     },
     "metadata": {},
     "output_type": "display_data"
    }
   ],
   "source": [
    "newnames<-c(\"CodigoPostal\",\"Barrio\",\"TipoPropiedad\",\"TipoAlquiler\",\"MaxOcupantes\",\"NumBanyos\",\n",
    "\"NumDormitorios\",\"NumCamas\",\"TipoCama\",\"Comodidades\",\"PiesCuadrados\",\"Precio\",\"Puntuacion\")\n",
    "\n",
    "names(airbnb) <- newnames\n",
    "names(airbnb)"
   ]
  },
  {
   "cell_type": "markdown",
   "metadata": {},
   "source": [
    "Crea una nueva columna llamada MetrosCuadrados a partir de la columna PiesCuadrados.\n",
    "\n",
    "Ayuda: 1 pie cuadrado son 0,092903 metros cuadrdados"
   ]
  },
  {
   "cell_type": "code",
   "execution_count": 5,
   "metadata": {},
   "outputs": [],
   "source": [
    "airbnb[[\"MetrosCuadrados\"]] <- airbnb$PiesCuadrados * 0.092903"
   ]
  },
  {
   "cell_type": "markdown",
   "metadata": {},
   "source": [
    "Miremos el código postal. Es una variable con entradas erroneas.\n",
    "Hay valores como '', '-'  y '28' que deberían ser considerados como NA.\n",
    "Así mismo también debería ser NA todos los que no compiencen por 28, ya que estamos con códigos postales de Madrid\n",
    "\n",
    "El código postal 28002, 28004 y 28051 tienen entradas repetidas. \n",
    "Por ejemplo las entradas 28002\\n20882 deberían ir dnetro de 28002\n",
    "\n",
    "El codigo 2804 debería ser 28004, 2805 deberia ser 28005 y 2815 juncto con 2815 debería ser 28015\n",
    "\n",
    "Limpia los datos de la columna Codigo Postal"
   ]
  },
  {
   "cell_type": "code",
   "execution_count": 6,
   "metadata": {},
   "outputs": [],
   "source": [
    "airbnb$CodigoPostal[airbnb$CodigoPostal == '28' ] <- NA\n",
    "airbnb$CodigoPostal[airbnb$CodigoPostal == '' ] <- NA\n",
    "airbnb$CodigoPostal[airbnb$CodigoPostal == '-' ] <- NA\n",
    "airbnb$CodigoPostal[airbnb$CodigoPostal == '28002\\n20882'] <- '28002'\n",
    "airbnb$CodigoPostal[airbnb$CodigoPostal == '28002\\n28002'] <- '28002'\n",
    "airbnb$CodigoPostal[airbnb$CodigoPostal == '28051\\n28051'] <- '28051'\n",
    "airbnb$CodigoPostal[airbnb$CodigoPostal == '2804'] <- '28004'\n",
    "airbnb$CodigoPostal[airbnb$CodigoPostal == 'Madrid 28004'] <- '28004'\n",
    "airbnb$CodigoPostal[airbnb$CodigoPostal == '2805'] <- '28005'\n",
    "airbnb$CodigoPostal[airbnb$CodigoPostal == '2815'] <- '28015'\n",
    "airbnb$CodigoPostal[airbnb$CodigoPostal == '280013'] <- '28013'"
   ]
  },
  {
   "cell_type": "markdown",
   "metadata": {},
   "source": [
    "Una vez limpios los datos ¿Cuales son los códigos postales que tenemos? "
   ]
  },
  {
   "cell_type": "code",
   "execution_count": 7,
   "metadata": {},
   "outputs": [
    {
     "data": {
      "text/html": [
       "<style>\n",
       ".list-inline {list-style: none; margin:0; padding: 0}\n",
       ".list-inline>li {display: inline-block}\n",
       ".list-inline>li:not(:last-child)::after {content: \"\\00b7\"; padding: 0 .5ex}\n",
       "</style>\n",
       "<ol class=list-inline><li>'20013'</li><li>'20126'</li><li>'2015'</li><li>'25008'</li><li>'27004'</li><li>'27013'</li><li>'28001'</li><li>'28002'</li><li>'28003'</li><li>'28004'</li><li>'28005'</li><li>'28006'</li><li>'28007'</li><li>'28008'</li><li>'28009'</li><li>'28010'</li><li>'28011'</li><li>'28012'</li><li>'28013'</li><li>'28014'</li><li>'28015'</li><li>'28016'</li><li>'28017'</li><li>'28018'</li><li>'28019'</li><li>'28020'</li><li>'28021'</li><li>'28022'</li><li>'28023'</li><li>'28024'</li><li>'28025'</li><li>'28026'</li><li>'28027'</li><li>'28028'</li><li>'28029'</li><li>'28030'</li><li>'28031'</li><li>'28032'</li><li>'28033'</li><li>'28034'</li><li>'28035'</li><li>'28036'</li><li>'28037'</li><li>'28038'</li><li>'28039'</li><li>'28040'</li><li>'28041'</li><li>'28042'</li><li>'28043'</li><li>'28044'</li><li>'28045'</li><li>'28046'</li><li>'28047'</li><li>'28048'</li><li>'28049'</li><li>'28050'</li><li>'28051'</li><li>'28052'</li><li>'28053'</li><li>'28054'</li><li>'28055'</li><li>'28056'</li><li>'28058'</li><li>'28060'</li><li>'28094'</li><li>'28105'</li><li>'28850'</li></ol>\n"
      ],
      "text/latex": [
       "\\begin{enumerate*}\n",
       "\\item '20013'\n",
       "\\item '20126'\n",
       "\\item '2015'\n",
       "\\item '25008'\n",
       "\\item '27004'\n",
       "\\item '27013'\n",
       "\\item '28001'\n",
       "\\item '28002'\n",
       "\\item '28003'\n",
       "\\item '28004'\n",
       "\\item '28005'\n",
       "\\item '28006'\n",
       "\\item '28007'\n",
       "\\item '28008'\n",
       "\\item '28009'\n",
       "\\item '28010'\n",
       "\\item '28011'\n",
       "\\item '28012'\n",
       "\\item '28013'\n",
       "\\item '28014'\n",
       "\\item '28015'\n",
       "\\item '28016'\n",
       "\\item '28017'\n",
       "\\item '28018'\n",
       "\\item '28019'\n",
       "\\item '28020'\n",
       "\\item '28021'\n",
       "\\item '28022'\n",
       "\\item '28023'\n",
       "\\item '28024'\n",
       "\\item '28025'\n",
       "\\item '28026'\n",
       "\\item '28027'\n",
       "\\item '28028'\n",
       "\\item '28029'\n",
       "\\item '28030'\n",
       "\\item '28031'\n",
       "\\item '28032'\n",
       "\\item '28033'\n",
       "\\item '28034'\n",
       "\\item '28035'\n",
       "\\item '28036'\n",
       "\\item '28037'\n",
       "\\item '28038'\n",
       "\\item '28039'\n",
       "\\item '28040'\n",
       "\\item '28041'\n",
       "\\item '28042'\n",
       "\\item '28043'\n",
       "\\item '28044'\n",
       "\\item '28045'\n",
       "\\item '28046'\n",
       "\\item '28047'\n",
       "\\item '28048'\n",
       "\\item '28049'\n",
       "\\item '28050'\n",
       "\\item '28051'\n",
       "\\item '28052'\n",
       "\\item '28053'\n",
       "\\item '28054'\n",
       "\\item '28055'\n",
       "\\item '28056'\n",
       "\\item '28058'\n",
       "\\item '28060'\n",
       "\\item '28094'\n",
       "\\item '28105'\n",
       "\\item '28850'\n",
       "\\end{enumerate*}\n"
      ],
      "text/markdown": [
       "1. '20013'\n",
       "2. '20126'\n",
       "3. '2015'\n",
       "4. '25008'\n",
       "5. '27004'\n",
       "6. '27013'\n",
       "7. '28001'\n",
       "8. '28002'\n",
       "9. '28003'\n",
       "10. '28004'\n",
       "11. '28005'\n",
       "12. '28006'\n",
       "13. '28007'\n",
       "14. '28008'\n",
       "15. '28009'\n",
       "16. '28010'\n",
       "17. '28011'\n",
       "18. '28012'\n",
       "19. '28013'\n",
       "20. '28014'\n",
       "21. '28015'\n",
       "22. '28016'\n",
       "23. '28017'\n",
       "24. '28018'\n",
       "25. '28019'\n",
       "26. '28020'\n",
       "27. '28021'\n",
       "28. '28022'\n",
       "29. '28023'\n",
       "30. '28024'\n",
       "31. '28025'\n",
       "32. '28026'\n",
       "33. '28027'\n",
       "34. '28028'\n",
       "35. '28029'\n",
       "36. '28030'\n",
       "37. '28031'\n",
       "38. '28032'\n",
       "39. '28033'\n",
       "40. '28034'\n",
       "41. '28035'\n",
       "42. '28036'\n",
       "43. '28037'\n",
       "44. '28038'\n",
       "45. '28039'\n",
       "46. '28040'\n",
       "47. '28041'\n",
       "48. '28042'\n",
       "49. '28043'\n",
       "50. '28044'\n",
       "51. '28045'\n",
       "52. '28046'\n",
       "53. '28047'\n",
       "54. '28048'\n",
       "55. '28049'\n",
       "56. '28050'\n",
       "57. '28051'\n",
       "58. '28052'\n",
       "59. '28053'\n",
       "60. '28054'\n",
       "61. '28055'\n",
       "62. '28056'\n",
       "63. '28058'\n",
       "64. '28060'\n",
       "65. '28094'\n",
       "66. '28105'\n",
       "67. '28850'\n",
       "\n",
       "\n"
      ],
      "text/plain": [
       " [1] \"20013\" \"20126\" \"2015\"  \"25008\" \"27004\" \"27013\" \"28001\" \"28002\" \"28003\"\n",
       "[10] \"28004\" \"28005\" \"28006\" \"28007\" \"28008\" \"28009\" \"28010\" \"28011\" \"28012\"\n",
       "[19] \"28013\" \"28014\" \"28015\" \"28016\" \"28017\" \"28018\" \"28019\" \"28020\" \"28021\"\n",
       "[28] \"28022\" \"28023\" \"28024\" \"28025\" \"28026\" \"28027\" \"28028\" \"28029\" \"28030\"\n",
       "[37] \"28031\" \"28032\" \"28033\" \"28034\" \"28035\" \"28036\" \"28037\" \"28038\" \"28039\"\n",
       "[46] \"28040\" \"28041\" \"28042\" \"28043\" \"28044\" \"28045\" \"28046\" \"28047\" \"28048\"\n",
       "[55] \"28049\" \"28050\" \"28051\" \"28052\" \"28053\" \"28054\" \"28055\" \"28056\" \"28058\"\n",
       "[64] \"28060\" \"28094\" \"28105\" \"28850\""
      ]
     },
     "metadata": {},
     "output_type": "display_data"
    }
   ],
   "source": [
    "airbnb <- droplevels(airbnb)\n",
    "levels(airbnb$CodigoPostal)"
   ]
  },
  {
   "cell_type": "markdown",
   "metadata": {},
   "source": [
    "¿Cuales son los 5 códigos postales con más entradas? ¿Y con menos? ¿Cuantas entradas tienen?"
   ]
  },
  {
   "cell_type": "code",
   "execution_count": 8,
   "metadata": {},
   "outputs": [
    {
     "name": "stdout",
     "output_type": "stream",
     "text": [
      "[1] \"Los códigos postales con mayor número de entrada son: \"\n"
     ]
    },
    {
     "data": {
      "text/plain": [
       "\n",
       "28014 28013 28005 28004 28012 \n",
       "  630  1020  1195  1796  2060 "
      ]
     },
     "metadata": {},
     "output_type": "display_data"
    },
    {
     "name": "stdout",
     "output_type": "stream",
     "text": [
      "[1] \"Los códigos postales con menor número de entrada son: \"\n"
     ]
    },
    {
     "data": {
      "text/plain": [
       "\n",
       "20013 20126  2015 25008 27004 \n",
       "    1     1     1     1     1 "
      ]
     },
     "metadata": {},
     "output_type": "display_data"
    }
   ],
   "source": [
    "t <- table(airbnb$CodigoPostal)\n",
    "ts <- sort(t)\n",
    "\n",
    "mostAppearences <- tail(ts, n=5)\n",
    "print(\"Los códigos postales con mayor número de entrada son: \")\n",
    "mostAppearences\n",
    "\n",
    "lessAppearences <- head(ts, n=5)\n",
    "print(\"Los códigos postales con menor número de entrada son: \")\n",
    "lessAppearences"
   ]
  },
  {
   "cell_type": "markdown",
   "metadata": {},
   "source": [
    "¿Cuales son los barrios que hay en el código postal 28012?"
   ]
  },
  {
   "cell_type": "code",
   "execution_count": 9,
   "metadata": {},
   "outputs": [
    {
     "name": "stdout",
     "output_type": "stream",
     "text": [
      "[1] \"Los barrios para el código postal '28012' son: \"\n"
     ]
    },
    {
     "data": {
      "text/html": [
       "<style>\n",
       ".list-inline {list-style: none; margin:0; padding: 0}\n",
       ".list-inline>li {display: inline-block}\n",
       ".list-inline>li:not(:last-child)::after {content: \"\\00b7\"; padding: 0 .5ex}\n",
       "</style>\n",
       "<ol class=list-inline><li>'Abrantes'</li><li>'Acacias'</li><li>'Adelfas'</li><li>'Aeropuerto'</li><li>'Aguilas'</li><li>'Alameda de Osuna'</li><li>'Almagro'</li><li>'Almenara'</li><li>'Almendrales'</li><li>'Aluche'</li><li>'Ambroz'</li><li>'Amposta'</li><li>'Apostol Santiago'</li><li>'Arapiles'</li><li>'Aravaca'</li><li>'Arcos'</li><li>'Argüelles'</li><li>'Atocha'</li><li>'Bellas Vistas'</li><li>'Berruguete'</li><li>'Buenavista'</li><li>'Butarque'</li><li>'Campamento'</li><li>'Canillas'</li><li>'Canillejas'</li><li>'Cármenes'</li><li>'Casa de Campo'</li><li>'Casco Histórico de Barajas'</li><li>'Casco Histórico de Vallecas'</li><li>'Casco Histórico de Vicálvaro'</li><li>'Castellana'</li><li>'Castilla'</li><li>'Castillejos'</li><li>'Chopera'</li><li>'Ciudad Jardín'</li><li>'Ciudad Universitaria'</li><li>'Colina'</li><li>'Comillas'</li><li>'Concepción'</li><li>'Corralejos'</li><li>'Cortes'</li><li>'Costillares'</li><li>'Cuatro Caminos'</li><li>'Cuatro Vientos'</li><li>'Delicias'</li><li>'El Goloso'</li><li>'El Plantío'</li><li>'El Viso'</li><li>'Embajadores'</li><li>'Entrevías'</li><li>'Estrella'</li><li>'Fontarrón'</li><li>'Fuente del Berro'</li><li>'Fuentelareina'</li><li>'Gaztambide'</li><li>'Goya'</li><li>'Guindalera'</li><li>'Hellín'</li><li>'Hispanoamérica'</li><li>'Ibiza'</li><li>'Imperial'</li><li>'Jerónimos'</li><li>'Justicia'</li><li>'La Paz'</li><li>'Legazpi'</li><li>'Lista'</li><li>'Los Angeles'</li><li>'Los Rosales'</li><li>'Lucero'</li><li>'Marroquina'</li><li>'Media Legua'</li><li>'Mirasierra'</li><li>'Moscardó'</li><li>'Niño Jesús'</li><li>'Nueva España'</li><li>'Numancia'</li><li>'Opañel'</li><li>'Orcasitas'</li><li>'Orcasur'</li><li>'Pacífico'</li><li>'Palacio'</li><li>'Palomas'</li><li>'Palomeras Bajas'</li><li>'Palomeras Sureste'</li><li>'Palos de Moguer'</li><li>'Pavones'</li><li>'Peñagrande'</li><li>'Pilar'</li><li>'Pinar del Rey'</li><li>'Piovera'</li><li>'Portazgo'</li><li>'Pradolongo'</li><li>'Prosperidad'</li><li>'Pueblo Nuevo'</li><li>'Puerta Bonita'</li><li>'Puerta del Angel'</li><li>'Quintana'</li><li>'Recoletos'</li><li>'Rejas'</li><li>'Rios Rosas'</li><li>'Rosas'</li><li>'Salvador'</li><li>'San Andrés'</li><li>'San Cristobal'</li><li>'San Diego'</li><li>'San Fermín'</li><li>'San Isidro'</li><li>'San Juan Bautista'</li><li>'San Pascual'</li><li>'Santa Eugenia'</li><li>'Simancas'</li><li>'Sol'</li><li>'Timón'</li><li>'Trafalgar'</li><li>'Universidad'</li><li>'Valdeacederas'</li><li>'Valdefuentes'</li><li>'Valdemarín'</li><li>'Valdezarza'</li><li>'Vallehermoso'</li><li>'Valverde'</li><li>'Ventas'</li><li>'Vinateros'</li><li>'Vista Alegre'</li><li>'Zofío'</li></ol>\n"
      ],
      "text/latex": [
       "\\begin{enumerate*}\n",
       "\\item 'Abrantes'\n",
       "\\item 'Acacias'\n",
       "\\item 'Adelfas'\n",
       "\\item 'Aeropuerto'\n",
       "\\item 'Aguilas'\n",
       "\\item 'Alameda de Osuna'\n",
       "\\item 'Almagro'\n",
       "\\item 'Almenara'\n",
       "\\item 'Almendrales'\n",
       "\\item 'Aluche'\n",
       "\\item 'Ambroz'\n",
       "\\item 'Amposta'\n",
       "\\item 'Apostol Santiago'\n",
       "\\item 'Arapiles'\n",
       "\\item 'Aravaca'\n",
       "\\item 'Arcos'\n",
       "\\item 'Argüelles'\n",
       "\\item 'Atocha'\n",
       "\\item 'Bellas Vistas'\n",
       "\\item 'Berruguete'\n",
       "\\item 'Buenavista'\n",
       "\\item 'Butarque'\n",
       "\\item 'Campamento'\n",
       "\\item 'Canillas'\n",
       "\\item 'Canillejas'\n",
       "\\item 'Cármenes'\n",
       "\\item 'Casa de Campo'\n",
       "\\item 'Casco Histórico de Barajas'\n",
       "\\item 'Casco Histórico de Vallecas'\n",
       "\\item 'Casco Histórico de Vicálvaro'\n",
       "\\item 'Castellana'\n",
       "\\item 'Castilla'\n",
       "\\item 'Castillejos'\n",
       "\\item 'Chopera'\n",
       "\\item 'Ciudad Jardín'\n",
       "\\item 'Ciudad Universitaria'\n",
       "\\item 'Colina'\n",
       "\\item 'Comillas'\n",
       "\\item 'Concepción'\n",
       "\\item 'Corralejos'\n",
       "\\item 'Cortes'\n",
       "\\item 'Costillares'\n",
       "\\item 'Cuatro Caminos'\n",
       "\\item 'Cuatro Vientos'\n",
       "\\item 'Delicias'\n",
       "\\item 'El Goloso'\n",
       "\\item 'El Plantío'\n",
       "\\item 'El Viso'\n",
       "\\item 'Embajadores'\n",
       "\\item 'Entrevías'\n",
       "\\item 'Estrella'\n",
       "\\item 'Fontarrón'\n",
       "\\item 'Fuente del Berro'\n",
       "\\item 'Fuentelareina'\n",
       "\\item 'Gaztambide'\n",
       "\\item 'Goya'\n",
       "\\item 'Guindalera'\n",
       "\\item 'Hellín'\n",
       "\\item 'Hispanoamérica'\n",
       "\\item 'Ibiza'\n",
       "\\item 'Imperial'\n",
       "\\item 'Jerónimos'\n",
       "\\item 'Justicia'\n",
       "\\item 'La Paz'\n",
       "\\item 'Legazpi'\n",
       "\\item 'Lista'\n",
       "\\item 'Los Angeles'\n",
       "\\item 'Los Rosales'\n",
       "\\item 'Lucero'\n",
       "\\item 'Marroquina'\n",
       "\\item 'Media Legua'\n",
       "\\item 'Mirasierra'\n",
       "\\item 'Moscardó'\n",
       "\\item 'Niño Jesús'\n",
       "\\item 'Nueva España'\n",
       "\\item 'Numancia'\n",
       "\\item 'Opañel'\n",
       "\\item 'Orcasitas'\n",
       "\\item 'Orcasur'\n",
       "\\item 'Pacífico'\n",
       "\\item 'Palacio'\n",
       "\\item 'Palomas'\n",
       "\\item 'Palomeras Bajas'\n",
       "\\item 'Palomeras Sureste'\n",
       "\\item 'Palos de Moguer'\n",
       "\\item 'Pavones'\n",
       "\\item 'Peñagrande'\n",
       "\\item 'Pilar'\n",
       "\\item 'Pinar del Rey'\n",
       "\\item 'Piovera'\n",
       "\\item 'Portazgo'\n",
       "\\item 'Pradolongo'\n",
       "\\item 'Prosperidad'\n",
       "\\item 'Pueblo Nuevo'\n",
       "\\item 'Puerta Bonita'\n",
       "\\item 'Puerta del Angel'\n",
       "\\item 'Quintana'\n",
       "\\item 'Recoletos'\n",
       "\\item 'Rejas'\n",
       "\\item 'Rios Rosas'\n",
       "\\item 'Rosas'\n",
       "\\item 'Salvador'\n",
       "\\item 'San Andrés'\n",
       "\\item 'San Cristobal'\n",
       "\\item 'San Diego'\n",
       "\\item 'San Fermín'\n",
       "\\item 'San Isidro'\n",
       "\\item 'San Juan Bautista'\n",
       "\\item 'San Pascual'\n",
       "\\item 'Santa Eugenia'\n",
       "\\item 'Simancas'\n",
       "\\item 'Sol'\n",
       "\\item 'Timón'\n",
       "\\item 'Trafalgar'\n",
       "\\item 'Universidad'\n",
       "\\item 'Valdeacederas'\n",
       "\\item 'Valdefuentes'\n",
       "\\item 'Valdemarín'\n",
       "\\item 'Valdezarza'\n",
       "\\item 'Vallehermoso'\n",
       "\\item 'Valverde'\n",
       "\\item 'Ventas'\n",
       "\\item 'Vinateros'\n",
       "\\item 'Vista Alegre'\n",
       "\\item 'Zofío'\n",
       "\\end{enumerate*}\n"
      ],
      "text/markdown": [
       "1. 'Abrantes'\n",
       "2. 'Acacias'\n",
       "3. 'Adelfas'\n",
       "4. 'Aeropuerto'\n",
       "5. 'Aguilas'\n",
       "6. 'Alameda de Osuna'\n",
       "7. 'Almagro'\n",
       "8. 'Almenara'\n",
       "9. 'Almendrales'\n",
       "10. 'Aluche'\n",
       "11. 'Ambroz'\n",
       "12. 'Amposta'\n",
       "13. 'Apostol Santiago'\n",
       "14. 'Arapiles'\n",
       "15. 'Aravaca'\n",
       "16. 'Arcos'\n",
       "17. 'Argüelles'\n",
       "18. 'Atocha'\n",
       "19. 'Bellas Vistas'\n",
       "20. 'Berruguete'\n",
       "21. 'Buenavista'\n",
       "22. 'Butarque'\n",
       "23. 'Campamento'\n",
       "24. 'Canillas'\n",
       "25. 'Canillejas'\n",
       "26. 'Cármenes'\n",
       "27. 'Casa de Campo'\n",
       "28. 'Casco Histórico de Barajas'\n",
       "29. 'Casco Histórico de Vallecas'\n",
       "30. 'Casco Histórico de Vicálvaro'\n",
       "31. 'Castellana'\n",
       "32. 'Castilla'\n",
       "33. 'Castillejos'\n",
       "34. 'Chopera'\n",
       "35. 'Ciudad Jardín'\n",
       "36. 'Ciudad Universitaria'\n",
       "37. 'Colina'\n",
       "38. 'Comillas'\n",
       "39. 'Concepción'\n",
       "40. 'Corralejos'\n",
       "41. 'Cortes'\n",
       "42. 'Costillares'\n",
       "43. 'Cuatro Caminos'\n",
       "44. 'Cuatro Vientos'\n",
       "45. 'Delicias'\n",
       "46. 'El Goloso'\n",
       "47. 'El Plantío'\n",
       "48. 'El Viso'\n",
       "49. 'Embajadores'\n",
       "50. 'Entrevías'\n",
       "51. 'Estrella'\n",
       "52. 'Fontarrón'\n",
       "53. 'Fuente del Berro'\n",
       "54. 'Fuentelareina'\n",
       "55. 'Gaztambide'\n",
       "56. 'Goya'\n",
       "57. 'Guindalera'\n",
       "58. 'Hellín'\n",
       "59. 'Hispanoamérica'\n",
       "60. 'Ibiza'\n",
       "61. 'Imperial'\n",
       "62. 'Jerónimos'\n",
       "63. 'Justicia'\n",
       "64. 'La Paz'\n",
       "65. 'Legazpi'\n",
       "66. 'Lista'\n",
       "67. 'Los Angeles'\n",
       "68. 'Los Rosales'\n",
       "69. 'Lucero'\n",
       "70. 'Marroquina'\n",
       "71. 'Media Legua'\n",
       "72. 'Mirasierra'\n",
       "73. 'Moscardó'\n",
       "74. 'Niño Jesús'\n",
       "75. 'Nueva España'\n",
       "76. 'Numancia'\n",
       "77. 'Opañel'\n",
       "78. 'Orcasitas'\n",
       "79. 'Orcasur'\n",
       "80. 'Pacífico'\n",
       "81. 'Palacio'\n",
       "82. 'Palomas'\n",
       "83. 'Palomeras Bajas'\n",
       "84. 'Palomeras Sureste'\n",
       "85. 'Palos de Moguer'\n",
       "86. 'Pavones'\n",
       "87. 'Peñagrande'\n",
       "88. 'Pilar'\n",
       "89. 'Pinar del Rey'\n",
       "90. 'Piovera'\n",
       "91. 'Portazgo'\n",
       "92. 'Pradolongo'\n",
       "93. 'Prosperidad'\n",
       "94. 'Pueblo Nuevo'\n",
       "95. 'Puerta Bonita'\n",
       "96. 'Puerta del Angel'\n",
       "97. 'Quintana'\n",
       "98. 'Recoletos'\n",
       "99. 'Rejas'\n",
       "100. 'Rios Rosas'\n",
       "101. 'Rosas'\n",
       "102. 'Salvador'\n",
       "103. 'San Andrés'\n",
       "104. 'San Cristobal'\n",
       "105. 'San Diego'\n",
       "106. 'San Fermín'\n",
       "107. 'San Isidro'\n",
       "108. 'San Juan Bautista'\n",
       "109. 'San Pascual'\n",
       "110. 'Santa Eugenia'\n",
       "111. 'Simancas'\n",
       "112. 'Sol'\n",
       "113. 'Timón'\n",
       "114. 'Trafalgar'\n",
       "115. 'Universidad'\n",
       "116. 'Valdeacederas'\n",
       "117. 'Valdefuentes'\n",
       "118. 'Valdemarín'\n",
       "119. 'Valdezarza'\n",
       "120. 'Vallehermoso'\n",
       "121. 'Valverde'\n",
       "122. 'Ventas'\n",
       "123. 'Vinateros'\n",
       "124. 'Vista Alegre'\n",
       "125. 'Zofío'\n",
       "\n",
       "\n"
      ],
      "text/plain": [
       "  [1] \"Abrantes\"                     \"Acacias\"                     \n",
       "  [3] \"Adelfas\"                      \"Aeropuerto\"                  \n",
       "  [5] \"Aguilas\"                      \"Alameda de Osuna\"            \n",
       "  [7] \"Almagro\"                      \"Almenara\"                    \n",
       "  [9] \"Almendrales\"                  \"Aluche\"                      \n",
       " [11] \"Ambroz\"                       \"Amposta\"                     \n",
       " [13] \"Apostol Santiago\"             \"Arapiles\"                    \n",
       " [15] \"Aravaca\"                      \"Arcos\"                       \n",
       " [17] \"Argüelles\"                    \"Atocha\"                      \n",
       " [19] \"Bellas Vistas\"                \"Berruguete\"                  \n",
       " [21] \"Buenavista\"                   \"Butarque\"                    \n",
       " [23] \"Campamento\"                   \"Canillas\"                    \n",
       " [25] \"Canillejas\"                   \"Cármenes\"                    \n",
       " [27] \"Casa de Campo\"                \"Casco Histórico de Barajas\"  \n",
       " [29] \"Casco Histórico de Vallecas\"  \"Casco Histórico de Vicálvaro\"\n",
       " [31] \"Castellana\"                   \"Castilla\"                    \n",
       " [33] \"Castillejos\"                  \"Chopera\"                     \n",
       " [35] \"Ciudad Jardín\"                \"Ciudad Universitaria\"        \n",
       " [37] \"Colina\"                       \"Comillas\"                    \n",
       " [39] \"Concepción\"                   \"Corralejos\"                  \n",
       " [41] \"Cortes\"                       \"Costillares\"                 \n",
       " [43] \"Cuatro Caminos\"               \"Cuatro Vientos\"              \n",
       " [45] \"Delicias\"                     \"El Goloso\"                   \n",
       " [47] \"El Plantío\"                   \"El Viso\"                     \n",
       " [49] \"Embajadores\"                  \"Entrevías\"                   \n",
       " [51] \"Estrella\"                     \"Fontarrón\"                   \n",
       " [53] \"Fuente del Berro\"             \"Fuentelareina\"               \n",
       " [55] \"Gaztambide\"                   \"Goya\"                        \n",
       " [57] \"Guindalera\"                   \"Hellín\"                      \n",
       " [59] \"Hispanoamérica\"               \"Ibiza\"                       \n",
       " [61] \"Imperial\"                     \"Jerónimos\"                   \n",
       " [63] \"Justicia\"                     \"La Paz\"                      \n",
       " [65] \"Legazpi\"                      \"Lista\"                       \n",
       " [67] \"Los Angeles\"                  \"Los Rosales\"                 \n",
       " [69] \"Lucero\"                       \"Marroquina\"                  \n",
       " [71] \"Media Legua\"                  \"Mirasierra\"                  \n",
       " [73] \"Moscardó\"                     \"Niño Jesús\"                  \n",
       " [75] \"Nueva España\"                 \"Numancia\"                    \n",
       " [77] \"Opañel\"                       \"Orcasitas\"                   \n",
       " [79] \"Orcasur\"                      \"Pacífico\"                    \n",
       " [81] \"Palacio\"                      \"Palomas\"                     \n",
       " [83] \"Palomeras Bajas\"              \"Palomeras Sureste\"           \n",
       " [85] \"Palos de Moguer\"              \"Pavones\"                     \n",
       " [87] \"Peñagrande\"                   \"Pilar\"                       \n",
       " [89] \"Pinar del Rey\"                \"Piovera\"                     \n",
       " [91] \"Portazgo\"                     \"Pradolongo\"                  \n",
       " [93] \"Prosperidad\"                  \"Pueblo Nuevo\"                \n",
       " [95] \"Puerta Bonita\"                \"Puerta del Angel\"            \n",
       " [97] \"Quintana\"                     \"Recoletos\"                   \n",
       " [99] \"Rejas\"                        \"Rios Rosas\"                  \n",
       "[101] \"Rosas\"                        \"Salvador\"                    \n",
       "[103] \"San Andrés\"                   \"San Cristobal\"               \n",
       "[105] \"San Diego\"                    \"San Fermín\"                  \n",
       "[107] \"San Isidro\"                   \"San Juan Bautista\"           \n",
       "[109] \"San Pascual\"                  \"Santa Eugenia\"               \n",
       "[111] \"Simancas\"                     \"Sol\"                         \n",
       "[113] \"Timón\"                        \"Trafalgar\"                   \n",
       "[115] \"Universidad\"                  \"Valdeacederas\"               \n",
       "[117] \"Valdefuentes\"                 \"Valdemarín\"                  \n",
       "[119] \"Valdezarza\"                   \"Vallehermoso\"                \n",
       "[121] \"Valverde\"                     \"Ventas\"                      \n",
       "[123] \"Vinateros\"                    \"Vista Alegre\"                \n",
       "[125] \"Zofío\"                       "
      ]
     },
     "metadata": {},
     "output_type": "display_data"
    }
   ],
   "source": [
    "print(\"Los barrios para el código postal '28012' son: \")\n",
    "levels(with(airbnb, Barrio[CodigoPostal==28012]))"
   ]
  },
  {
   "cell_type": "markdown",
   "metadata": {},
   "source": [
    "¿Cuantas entradas hay en cada uno de esos barrios para el codigo postao 28012? Asumiendo que el identificador de Barrio sea correcto, ¿es fiable la columna de código postal?"
   ]
  },
  {
   "cell_type": "code",
   "execution_count": 10,
   "metadata": {},
   "outputs": [
    {
     "name": "stdout",
     "output_type": "stream",
     "text": [
      "[1] \"Para cada barrio del código postal '28012' tienen estas entradas: \"\n"
     ]
    },
    {
     "data": {
      "text/plain": [
       "\n",
       "        Acacias        Arapiles          Atocha          Cortes        Delicias \n",
       "             13               1               1             216               1 \n",
       "    Embajadores            Goya         Palacio Palos de Moguer             Sol \n",
       "           1449               1              27              46             301 \n",
       "    Universidad \n",
       "              4 "
      ]
     },
     "metadata": {},
     "output_type": "display_data"
    }
   ],
   "source": [
    "print(\"Para cada barrio del código postal '28012' tienen estas entradas: \")\n",
    "table(droplevels(airbnb$Barrio[airbnb$CodigoPostal==28012]))"
   ]
  },
  {
   "cell_type": "markdown",
   "metadata": {},
   "source": [
    "#### Los codigos postales\n",
    "\n",
    "En España un código postal sigue el siguiente patron AABCC, donde:\n",
    " - AA: Código de provincia\n",
    " - B: Capital de provincia\n",
    " - CC: Distrito postal\n",
    " \n",
    "Con esto se deduce que un mismo código postal estara en distintos barrios ya que estos a su vez son un nivel de division inferior de los distritos, por lo que dependiendo que es lo que se quiere medir será una medida valida o no."
   ]
  },
  {
   "cell_type": "markdown",
   "metadata": {},
   "source": [
    "¿Cuantos barrios hay en todo el dataset airbnb? ¿Cuales son?"
   ]
  },
  {
   "cell_type": "code",
   "execution_count": 11,
   "metadata": {},
   "outputs": [
    {
     "name": "stdout",
     "output_type": "stream",
     "text": [
      "[1] \"En todo el datase hay 125 en todo el dataset\"\n"
     ]
    }
   ],
   "source": [
    "neighborhoods <- table(airbnb$Barrio)\n",
    "print(paste(\"En todo el datase hay\",nrow(neighborhoods),\"en todo el dataset\"))"
   ]
  },
  {
   "cell_type": "markdown",
   "metadata": {},
   "source": [
    "¿Cuales son los 5 barrios que tienen mayor número entradas?"
   ]
  },
  {
   "cell_type": "code",
   "execution_count": 12,
   "metadata": {},
   "outputs": [
    {
     "name": "stdout",
     "output_type": "stream",
     "text": [
      "[1] \"Los barrios con mayor numero de entradas son:\"\n"
     ]
    },
    {
     "data": {
      "text/plain": [
       "\n",
       "   Justicia         Sol     Palacio Universidad Embajadores \n",
       "        785         940        1083        1358        1844 "
      ]
     },
     "metadata": {},
     "output_type": "display_data"
    }
   ],
   "source": [
    "sortedNeighborhoods <- sort(neighborhoods)\n",
    "print(\"Los barrios con mayor numero de entradas son:\")\n",
    "tail(sortedNeighborhoods, n=5)"
   ]
  },
  {
   "cell_type": "markdown",
   "metadata": {},
   "source": [
    "¿Cuantos Tipos de Alquiler diferentes hay? ¿Cuales son? ¿Cuantas entradas en el dataframe hay por cada tipo?"
   ]
  },
  {
   "cell_type": "code",
   "execution_count": 13,
   "metadata": {},
   "outputs": [
    {
     "name": "stdout",
     "output_type": "stream",
     "text": [
      "[1] \"Los tipos de alquiler (un total de 13207 entradas) son:\"\n"
     ]
    },
    {
     "data": {
      "text/plain": [
       "\n",
       "Entire home/apt    Private room     Shared room \n",
       "           7903            5113             191 "
      ]
     },
     "metadata": {},
     "output_type": "display_data"
    }
   ],
   "source": [
    "rentType <- table(airbnb$TipoAlquiler)\n",
    "print(paste(\"Los tipos de alquiler (un total de\", length(airbnb$TipoAlquiler),\"entradas) son:\"))\n",
    "rentType"
   ]
  },
  {
   "cell_type": "markdown",
   "metadata": {},
   "source": [
    "Muestra el diagrama de cajas del precio para cada uno de los diferentes Tipos de Alquiler"
   ]
  },
  {
   "cell_type": "code",
   "execution_count": 14,
   "metadata": {},
   "outputs": [
    {
     "data": {
      "image/png": "[encoded data removed]",
      "text/plain": [
       "plot without title"
      ]
     },
     "metadata": {
      "image/png": {
       "height": 480,
       "width": 840
      },
      "text/plain": {
       "height": 480,
       "width": 840
      }
     },
     "output_type": "display_data"
    }
   ],
   "source": [
    "ggplot(na.omit(airbnb),aes(x=TipoAlquiler, y=Precio,color=TipoAlquiler))+\n",
    "    geom_boxplot()+\n",
    "    scale_color_discrete(name=\"TipoAlquiler\")+\n",
    "    theme(tex=element_text(size=20))"
   ]
  },
  {
   "cell_type": "markdown",
   "metadata": {},
   "source": [
    "Cual es el precio medio de alquiler medio de cada uno, la diferencia que hay ¿es estadísticamente significativa?\n",
    "¿Con que test lo comprobarías?"
   ]
  },
  {
   "cell_type": "code",
   "execution_count": 15,
   "metadata": {},
   "outputs": [
    {
     "data": {
      "text/plain": [
       "  Tukey multiple comparisons of means\n",
       "    95% family-wise confidence level\n",
       "\n",
       "Fit: aov(formula = Precio ~ TipoAlquiler, data = airbnb)\n",
       "\n",
       "$TipoAlquiler\n",
       "                                   diff       lwr        upr     p adj\n",
       "Private room-Entire home/apt -53.041470 -55.12724 -50.955700 0.0000000\n",
       "Shared room-Entire home/apt  -57.443203 -65.95082 -48.935587 0.0000000\n",
       "Shared room-Private room      -4.401733 -12.96392   4.160453 0.4501858\n"
      ]
     },
     "metadata": {},
     "output_type": "display_data"
    },
    {
     "name": "stdout",
     "output_type": "stream",
     "text": [
      "[1] \"El precio medio para ( Private room ) es de: 34.255135981217 €\"\n",
      "[1] \"El precio medio para ( Entire home/apt ) es de: 87.2966058763931 €\"\n",
      "[1] \"El precio medio para ( Shared room ) es de: 29.8534031413613 €\"\n"
     ]
    }
   ],
   "source": [
    "TukeyHSD(aov( Precio ~ TipoAlquiler, data=airbnb))\n",
    "\n",
    "for (it in unique(airbnb$TipoAlquiler)) {\n",
    "    m <-  mean(with(airbnb, na.omit(Precio[TipoAlquiler == it])))\n",
    "    print(paste(\"El precio medio para (\", it,\") es de:\", m,\"€\"))\n",
    "}"
   ]
  },
  {
   "cell_type": "markdown",
   "metadata": {},
   "source": [
    "Como podemos ver las medias de los distintos tipos de alquiler es mastante significativa ya que a mayor 'privacidad' mayor será el precio medio a pagar. \n",
    "\n",
    "Para testar usaremos el test de Tukey ya que determina las medias significativos entre pares de grupos."
   ]
  },
  {
   "cell_type": "markdown",
   "metadata": {},
   "source": [
    "--------------------------------------------------------------------------------------------------------------"
   ]
  },
  {
   "cell_type": "markdown",
   "metadata": {},
   "source": [
    "Filtra el dataframe cuyos tipo de alquiler sea  'Entire home/apt' y guardalo en un dataframe llamado \n",
    "*airbnb_entire*.\n",
    "Estas serán las entradas que tienen un alquiler del piso completo."
   ]
  },
  {
   "cell_type": "code",
   "execution_count": 16,
   "metadata": {},
   "outputs": [
    {
     "name": "stdout",
     "output_type": "stream",
     "text": [
      "[1] \"El nuevo dataset tinene 7903 entradas\"\n"
     ]
    }
   ],
   "source": [
    "airbnb_entire <- subset(airbnb, TipoAlquiler == 'Entire home/apt')\n",
    "print(paste(\"El nuevo dataset tinene\", nrow(airbnb_entire),\"entradas\"))"
   ]
  },
  {
   "cell_type": "markdown",
   "metadata": {},
   "source": [
    "¿Cuales son los 5 barrios que tienen un mayor número de apartamentos enteros en alquiler?\n",
    "Nota: Mirar solo en airbnb_entire"
   ]
  },
  {
   "cell_type": "code",
   "execution_count": 17,
   "metadata": {},
   "outputs": [
    {
     "name": "stdout",
     "output_type": "stream",
     "text": [
      "[1] \"Los barrios con mayor numero de entradas para el tipo del alqiler 'Entire home/apt' son:\"\n"
     ]
    },
    {
     "data": {
      "text/plain": [
       "\n",
       "     Cortes         Sol     Palacio Universidad Embajadores \n",
       "        574         701         769         984        1228 "
      ]
     },
     "metadata": {},
     "output_type": "display_data"
    }
   ],
   "source": [
    "neighborhoods_entire <- table(airbnb_entire$Barrio)\n",
    "sortedNeighborhoods_entire <- sort(neighborhoods_entire)\n",
    "print(\"Los barrios con mayor numero de entradas para el tipo del alqiler 'Entire home/apt' son:\")\n",
    "tail(sortedNeighborhoods_entire, n=5)"
   ]
  },
  {
   "cell_type": "markdown",
   "metadata": {},
   "source": [
    "¿Cuales son los 5 barrios que tienen un mayor precio medio de alquiler para apartamentos enteros?\n",
    "\n",
    "¿Cual es su precio medio?\n",
    "\n",
    "Ayuda: Usa la función aggregate `aggregate(.~colname,df,mean,na.rm=TRUE)`"
   ]
  },
  {
   "cell_type": "code",
   "execution_count": 18,
   "metadata": {},
   "outputs": [
    {
     "name": "stdout",
     "output_type": "stream",
     "text": [
      "[1] \"Los barrios con mayor precio medio ara un apartamento completo de alquiler son:\"\n"
     ]
    },
    {
     "data": {
      "text/html": [
       "<table>\n",
       "<caption>A data.frame: 5 × 2</caption>\n",
       "<thead>\n",
       "\t<tr><th></th><th scope=col>Barrio</th><th scope=col>Precio</th></tr>\n",
       "\t<tr><th></th><th scope=col>&lt;fct&gt;</th><th scope=col>&lt;dbl&gt;</th></tr>\n",
       "</thead>\n",
       "<tbody>\n",
       "\t<tr><th scope=row>30</th><td>Castellana   </td><td>141.3889</td></tr>\n",
       "\t<tr><th scope=row>43</th><td>El Plantío   </td><td>150.0000</td></tr>\n",
       "\t<tr><th scope=row>93</th><td>Recoletos    </td><td>161.9254</td></tr>\n",
       "\t<tr><th scope=row>50</th><td>Fuentelareina</td><td>180.0000</td></tr>\n",
       "\t<tr><th scope=row>77</th><td>Palomas      </td><td>309.7500</td></tr>\n",
       "</tbody>\n",
       "</table>\n"
      ],
      "text/latex": [
       "A data.frame: 5 × 2\n",
       "\\begin{tabular}{r|ll}\n",
       "  & Barrio & Precio\\\\\n",
       "  & <fct> & <dbl>\\\\\n",
       "\\hline\n",
       "\t30 & Castellana    & 141.3889\\\\\n",
       "\t43 & El Plantío    & 150.0000\\\\\n",
       "\t93 & Recoletos     & 161.9254\\\\\n",
       "\t50 & Fuentelareina & 180.0000\\\\\n",
       "\t77 & Palomas       & 309.7500\\\\\n",
       "\\end{tabular}\n"
      ],
      "text/markdown": [
       "\n",
       "A data.frame: 5 × 2\n",
       "\n",
       "| <!--/--> | Barrio &lt;fct&gt; | Precio &lt;dbl&gt; |\n",
       "|---|---|---|\n",
       "| 30 | Castellana    | 141.3889 |\n",
       "| 43 | El Plantío    | 150.0000 |\n",
       "| 93 | Recoletos     | 161.9254 |\n",
       "| 50 | Fuentelareina | 180.0000 |\n",
       "| 77 | Palomas       | 309.7500 |\n",
       "\n"
      ],
      "text/plain": [
       "   Barrio        Precio  \n",
       "30 Castellana    141.3889\n",
       "43 El Plantío    150.0000\n",
       "93 Recoletos     161.9254\n",
       "50 Fuentelareina 180.0000\n",
       "77 Palomas       309.7500"
      ]
     },
     "metadata": {},
     "output_type": "display_data"
    }
   ],
   "source": [
    "nepm <- aggregate(Precio~Barrio,airbnb_entire,mean,na.rm=TRUE)\n",
    "s_nepm <- nepm[order(nepm$Precio),]\n",
    "print(\"Los barrios con mayor precio medio ara un apartamento completo de alquiler son:\")\n",
    "tail(s_nepm, n=5)"
   ]
  },
  {
   "cell_type": "markdown",
   "metadata": {},
   "source": [
    "¿Cuantos apartamentos hay en cada uno de esos barrios?\n",
    "\n",
    "Mostrar una dataframe con el nombre del barrio, el precio y el número de entradas.\n",
    "\n",
    "Ayuda: Podeis crear un nuevo dataframe con las columnas \"Barrio\" y \"Freq\" que contenga el número de entradas en cada barrio y hacer un merge con el dataframe del punto anterior."
   ]
  },
  {
   "cell_type": "code",
   "execution_count": 65,
   "metadata": {},
   "outputs": [],
   "source": [
    "nepf <- data.frame(with(airbnb_entire, table(Barrio)))\n",
    "nepf <- nepf[nepf$Freq > 0,]\n",
    "\n",
    "nep_df <- merge(nepm, nepf)"
   ]
  },
  {
   "cell_type": "markdown",
   "metadata": {},
   "source": [
    "Partiendo del dataframe anterior, muestra los 5 barrios con mayor precio, pero que tengan más de 100 entradas de alquiler."
   ]
  },
  {
   "cell_type": "code",
   "execution_count": 66,
   "metadata": {},
   "outputs": [
    {
     "name": "stdout",
     "output_type": "stream",
     "text": [
      "[1] \"El prrecio de los 5 barrios mas caros que tienen mas de 100 entradas son: \"\n"
     ]
    },
    {
     "data": {
      "text/html": [
       "<table>\n",
       "<caption>A data.frame: 5 × 3</caption>\n",
       "<thead>\n",
       "\t<tr><th></th><th scope=col>Barrio</th><th scope=col>Precio</th><th scope=col>Freq</th></tr>\n",
       "\t<tr><th></th><th scope=col>&lt;fct&gt;</th><th scope=col>&lt;dbl&gt;</th><th scope=col>&lt;int&gt;</th></tr>\n",
       "</thead>\n",
       "<tbody>\n",
       "\t<tr><th scope=row>59</th><td>Justicia </td><td> 98.25468</td><td>534</td></tr>\n",
       "\t<tr><th scope=row>108</th><td>Trafalgar</td><td> 98.57848</td><td>223</td></tr>\n",
       "\t<tr><th scope=row>106</th><td>Sol      </td><td>100.75036</td><td>701</td></tr>\n",
       "\t<tr><th scope=row>52</th><td>Goya     </td><td>111.33803</td><td>142</td></tr>\n",
       "\t<tr><th scope=row>93</th><td>Recoletos</td><td>161.92537</td><td>135</td></tr>\n",
       "</tbody>\n",
       "</table>\n"
      ],
      "text/latex": [
       "A data.frame: 5 × 3\n",
       "\\begin{tabular}{r|lll}\n",
       "  & Barrio & Precio & Freq\\\\\n",
       "  & <fct> & <dbl> & <int>\\\\\n",
       "\\hline\n",
       "\t59 & Justicia  &  98.25468 & 534\\\\\n",
       "\t108 & Trafalgar &  98.57848 & 223\\\\\n",
       "\t106 & Sol       & 100.75036 & 701\\\\\n",
       "\t52 & Goya      & 111.33803 & 142\\\\\n",
       "\t93 & Recoletos & 161.92537 & 135\\\\\n",
       "\\end{tabular}\n"
      ],
      "text/markdown": [
       "\n",
       "A data.frame: 5 × 3\n",
       "\n",
       "| <!--/--> | Barrio &lt;fct&gt; | Precio &lt;dbl&gt; | Freq &lt;int&gt; |\n",
       "|---|---|---|---|\n",
       "| 59 | Justicia  |  98.25468 | 534 |\n",
       "| 108 | Trafalgar |  98.57848 | 223 |\n",
       "| 106 | Sol       | 100.75036 | 701 |\n",
       "| 52 | Goya      | 111.33803 | 142 |\n",
       "| 93 | Recoletos | 161.92537 | 135 |\n",
       "\n"
      ],
      "text/plain": [
       "    Barrio    Precio    Freq\n",
       "59  Justicia   98.25468 534 \n",
       "108 Trafalgar  98.57848 223 \n",
       "106 Sol       100.75036 701 \n",
       "52  Goya      111.33803 142 \n",
       "93  Recoletos 161.92537 135 "
      ]
     },
     "metadata": {},
     "output_type": "display_data"
    }
   ],
   "source": [
    "s_nep_df <- nep_df[nep_df$Freq > 100,]\n",
    "s_nep_df <- s_nep_df[order(s_nep_df$Precio),]\n",
    "print(\"El prrecio de los 5 barrios mas caros que tienen mas de 100 entradas son: \")\n",
    "tp_f_nep_df <- tail(s_nep_df, n=5)\n",
    "tp_f_nep_df"
   ]
  },
  {
   "cell_type": "markdown",
   "metadata": {},
   "source": [
    "Dibuja el diagrama de densidad de distribución de los diferentes precios"
   ]
  },
  {
   "cell_type": "code",
   "execution_count": 94,
   "metadata": {
    "scrolled": true
   },
   "outputs": [
    {
     "name": "stderr",
     "output_type": "stream",
     "text": [
      "Warning message:\n",
      "“Groups with fewer than two data points have been dropped.”\n",
      "Warning message:\n",
      "“Groups with fewer than two data points have been dropped.”\n",
      "Warning message:\n",
      "“Groups with fewer than two data points have been dropped.”\n",
      "Warning message:\n",
      "“Groups with fewer than two data points have been dropped.”\n",
      "Warning message:\n",
      "“Groups with fewer than two data points have been dropped.”\n"
     ]
    },
    {
     "data": {
      "image/png": "[encoded data removed]",
      "text/plain": [
       "plot without title"
      ]
     },
     "metadata": {
      "image/png": {
       "height": 480,
       "width": 840
      },
      "text/plain": {
       "height": 480,
       "width": 840
      }
     },
     "output_type": "display_data"
    }
   ],
   "source": [
    "ggplot(tp_f_nep_df, aes(x=Precio, color=Barrio)) + \n",
    " geom_density(alpha=.3, fill=fillColor)+\n",
    "theme(tex=element_text(size=20))\n"
   ]
  },
  {
   "cell_type": "markdown",
   "metadata": {},
   "source": [
    "Calcula el tamaño medio, en metros cuadrados, para los 5 barrios anteriores y muestralo en el mismo dataframe junto con el precio y número de entradas"
   ]
  },
  {
   "cell_type": "code",
   "execution_count": 91,
   "metadata": {},
   "outputs": [
    {
     "data": {
      "text/html": [
       "<table>\n",
       "<caption>A data.frame: 5 × 4</caption>\n",
       "<thead>\n",
       "\t<tr><th scope=col>Barrio</th><th scope=col>MetrosCuadrados</th><th scope=col>Precio</th><th scope=col>Freq</th></tr>\n",
       "\t<tr><th scope=col>&lt;fct&gt;</th><th scope=col>&lt;dbl&gt;</th><th scope=col>&lt;dbl&gt;</th><th scope=col>&lt;int&gt;</th></tr>\n",
       "</thead>\n",
       "<tbody>\n",
       "\t<tr><td>Goya     </td><td>51.68504</td><td>111.33803</td><td>142</td></tr>\n",
       "\t<tr><td>Justicia </td><td>28.52669</td><td> 98.25468</td><td>534</td></tr>\n",
       "\t<tr><td>Recoletos</td><td>26.66316</td><td>161.92537</td><td>135</td></tr>\n",
       "\t<tr><td>Sol      </td><td>45.61692</td><td>100.75036</td><td>701</td></tr>\n",
       "\t<tr><td>Trafalgar</td><td>29.30426</td><td> 98.57848</td><td>223</td></tr>\n",
       "</tbody>\n",
       "</table>\n"
      ],
      "text/latex": [
       "A data.frame: 5 × 4\n",
       "\\begin{tabular}{llll}\n",
       " Barrio & MetrosCuadrados & Precio & Freq\\\\\n",
       " <fct> & <dbl> & <dbl> & <int>\\\\\n",
       "\\hline\n",
       "\t Goya      & 51.68504 & 111.33803 & 142\\\\\n",
       "\t Justicia  & 28.52669 &  98.25468 & 534\\\\\n",
       "\t Recoletos & 26.66316 & 161.92537 & 135\\\\\n",
       "\t Sol       & 45.61692 & 100.75036 & 701\\\\\n",
       "\t Trafalgar & 29.30426 &  98.57848 & 223\\\\\n",
       "\\end{tabular}\n"
      ],
      "text/markdown": [
       "\n",
       "A data.frame: 5 × 4\n",
       "\n",
       "| Barrio &lt;fct&gt; | MetrosCuadrados &lt;dbl&gt; | Precio &lt;dbl&gt; | Freq &lt;int&gt; |\n",
       "|---|---|---|---|\n",
       "| Goya      | 51.68504 | 111.33803 | 142 |\n",
       "| Justicia  | 28.52669 |  98.25468 | 534 |\n",
       "| Recoletos | 26.66316 | 161.92537 | 135 |\n",
       "| Sol       | 45.61692 | 100.75036 | 701 |\n",
       "| Trafalgar | 29.30426 |  98.57848 | 223 |\n",
       "\n"
      ],
      "text/plain": [
       "  Barrio    MetrosCuadrados Precio    Freq\n",
       "1 Goya      51.68504        111.33803 142 \n",
       "2 Justicia  28.52669         98.25468 534 \n",
       "3 Recoletos 26.66316        161.92537 135 \n",
       "4 Sol       45.61692        100.75036 701 \n",
       "5 Trafalgar 29.30426         98.57848 223 "
      ]
     },
     "metadata": {},
     "output_type": "display_data"
    },
    {
     "data": {
      "text/html": [
       "<table>\n",
       "<caption>A data.frame: 5 × 2</caption>\n",
       "<thead>\n",
       "\t<tr><th scope=col>Barrio</th><th scope=col>mc</th></tr>\n",
       "\t<tr><th scope=col>&lt;fct&gt;</th><th scope=col>&lt;dbl&gt;</th></tr>\n",
       "</thead>\n",
       "<tbody>\n",
       "\t<tr><td>Goya     </td><td>51.68504</td></tr>\n",
       "\t<tr><td>Justicia </td><td>28.52669</td></tr>\n",
       "\t<tr><td>Recoletos</td><td>26.66316</td></tr>\n",
       "\t<tr><td>Sol      </td><td>45.61692</td></tr>\n",
       "\t<tr><td>Trafalgar</td><td>29.30426</td></tr>\n",
       "</tbody>\n",
       "</table>\n"
      ],
      "text/latex": [
       "A data.frame: 5 × 2\n",
       "\\begin{tabular}{ll}\n",
       " Barrio & mc\\\\\n",
       " <fct> & <dbl>\\\\\n",
       "\\hline\n",
       "\t Goya      & 51.68504\\\\\n",
       "\t Justicia  & 28.52669\\\\\n",
       "\t Recoletos & 26.66316\\\\\n",
       "\t Sol       & 45.61692\\\\\n",
       "\t Trafalgar & 29.30426\\\\\n",
       "\\end{tabular}\n"
      ],
      "text/markdown": [
       "\n",
       "A data.frame: 5 × 2\n",
       "\n",
       "| Barrio &lt;fct&gt; | mc &lt;dbl&gt; |\n",
       "|---|---|\n",
       "| Goya      | 51.68504 |\n",
       "| Justicia  | 28.52669 |\n",
       "| Recoletos | 26.66316 |\n",
       "| Sol       | 45.61692 |\n",
       "| Trafalgar | 29.30426 |\n",
       "\n"
      ],
      "text/plain": [
       "  Barrio    mc      \n",
       "1 Goya      51.68504\n",
       "2 Justicia  28.52669\n",
       "3 Recoletos 26.66316\n",
       "4 Sol       45.61692\n",
       "5 Trafalgar 29.30426"
      ]
     },
     "metadata": {},
     "output_type": "display_data"
    }
   ],
   "source": [
    "selected_n <- airbnb_entire[airbnb_entire$Barrio %in% tp_f_nep_df$Barrio,]\n",
    "sqf_n <- aggregate(MetrosCuadrados~Barrio,selected_n,mean,na.rm=TRUE)\n",
    "tp_f_nep_df <-merge(tp_f_nep_df, sqf_n) \n",
    "tp_f_nep_df"
   ]
  },
  {
   "cell_type": "markdown",
   "metadata": {},
   "source": [
    " Dibuja el diagrama de densidad de distribución de los diferentes tamaños de apartamentos"
   ]
  },
  {
   "cell_type": "code",
   "execution_count": 93,
   "metadata": {},
   "outputs": [
    {
     "name": "stderr",
     "output_type": "stream",
     "text": [
      "Warning message:\n",
      "“Groups with fewer than two data points have been dropped.”\n",
      "Warning message:\n",
      "“Groups with fewer than two data points have been dropped.”\n",
      "Warning message:\n",
      "“Groups with fewer than two data points have been dropped.”\n",
      "Warning message:\n",
      "“Groups with fewer than two data points have been dropped.”\n",
      "Warning message:\n",
      "“Groups with fewer than two data points have been dropped.”\n"
     ]
    },
    {
     "data": {
      "image/png": "[encoded data removed]",
      "text/plain": [
       "plot without title"
      ]
     },
     "metadata": {
      "image/png": {
       "height": 480,
       "width": 840
      },
      "text/plain": {
       "height": 480,
       "width": 840
      }
     },
     "output_type": "display_data"
    }
   ],
   "source": [
    "ggplot(tp_f_nep_df, aes(x=MetrosCuadrados, colour=Barrio)) + \n",
    " geom_density()+\n",
    "theme(tex=element_text(size=20))"
   ]
  },
  {
   "cell_type": "markdown",
   "metadata": {},
   "source": [
    "Esta claro que las medias de cada uno de estos 5 barrios parecen ser diferentes, pero ¿son estadísticamente diferentes?\n",
    "¿Que test habría que usar para comprobarlo?"
   ]
  },
  {
   "cell_type": "code",
   "execution_count": 24,
   "metadata": {},
   "outputs": [
    {
     "data": {
      "text/plain": [
       "\n",
       "\tWelch Two Sample t-test\n",
       "\n",
       "data:  tp_f_nep_df$MetrosCuadrados and tp_f_nep_df$Precio\n",
       "t = -5.8896, df = 5.3752, p-value = 0.001565\n",
       "alternative hypothesis: true difference in means is not equal to 0\n",
       "95 percent confidence interval:\n",
       " -111.07026  -44.55008\n",
       "sample estimates:\n",
       "mean of x mean of y \n",
       " 36.35921 114.16938 \n"
      ]
     },
     "metadata": {},
     "output_type": "display_data"
    }
   ],
   "source": [
    "t.test(x=tp_f_nep_df$MetrosCuadrados, y=tp_f_nep_df$Precio)"
   ]
  },
  {
   "cell_type": "markdown",
   "metadata": {},
   "source": [
    "Usaremos el Test de Welch para comprobar la relación entre el precio y los metros cuadrados, y al obtener un p-valor inferior a 0.005 podemos asumir que a mayor espacio mayor cuantia a pagar."
   ]
  },
  {
   "cell_type": "markdown",
   "metadata": {},
   "source": [
    "---------------------------------------------------"
   ]
  },
  {
   "cell_type": "markdown",
   "metadata": {},
   "source": [
    "Para únicamente los pisos de alquiler en el barrio de Sol:\n",
    "\n",
    "``barrio_sol<-subset(airbnb_entire,Barrio==\"Sol\")``\n",
    "\n",
    "Calcular un modelo lineal que combine alguna de estas variables:\n",
    "* NumBanyos\n",
    "* NumDormitorios\n",
    "* MaxOcupantes\n",
    "* MetrosCuadrados"
   ]
  },
  {
   "cell_type": "code",
   "execution_count": 25,
   "metadata": {},
   "outputs": [
    {
     "data": {
      "text/plain": [
       "\n",
       "Call:\n",
       "lm(formula = MetrosCuadrados ~ NumBanyos + NumDormitorios + MaxOcupantes, \n",
       "    data = barrio_sol)\n",
       "\n",
       "Coefficients:\n",
       "   (Intercept)       NumBanyos  NumDormitorios    MaxOcupantes  \n",
       "        -1.827          18.028          23.544          -2.543  \n"
      ]
     },
     "metadata": {},
     "output_type": "display_data"
    }
   ],
   "source": [
    "barrio_sol<-subset(airbnb_entire,Barrio==\"Sol\")\n",
    "model<-lm(data=barrio_sol,formula=MetrosCuadrados~NumBanyos+NumDormitorios+MaxOcupantes)\n",
    "model"
   ]
  },
  {
   "cell_type": "markdown",
   "metadata": {},
   "source": [
    "Primero calculamos la correlación para ver como se relacionan estas variables entre sí."
   ]
  },
  {
   "cell_type": "code",
   "execution_count": 26,
   "metadata": {},
   "outputs": [
    {
     "data": {
      "text/plain": [
       "\n",
       "Call:\n",
       "lm(formula = MetrosCuadrados ~ NumBanyos + NumDormitorios + MaxOcupantes, \n",
       "    data = barrio_sol)\n",
       "\n",
       "Residuals:\n",
       "    Min      1Q  Median      3Q     Max \n",
       "-87.723 -29.574  -0.324  30.441 110.415 \n",
       "\n",
       "Coefficients:\n",
       "               Estimate Std. Error t value Pr(>|t|)   \n",
       "(Intercept)      -1.827     13.708  -0.133  0.89443   \n",
       "NumBanyos        18.028     13.362   1.349  0.18272   \n",
       "NumDormitorios   23.544      8.183   2.877  0.00567 **\n",
       "MaxOcupantes     -2.543      3.463  -0.734  0.46585   \n",
       "---\n",
       "Signif. codes:  0 ‘***’ 0.001 ‘**’ 0.01 ‘*’ 0.05 ‘.’ 0.1 ‘ ’ 1\n",
       "\n",
       "Residual standard error: 43.34 on 56 degrees of freedom\n",
       "  (641 observations deleted due to missingness)\n",
       "Multiple R-squared:  0.3452,\tAdjusted R-squared:  0.3102 \n",
       "F-statistic: 9.843 on 3 and 56 DF,  p-value: 2.597e-05\n"
      ]
     },
     "metadata": {},
     "output_type": "display_data"
    }
   ],
   "source": [
    "summary(model)"
   ]
  },
  {
   "cell_type": "markdown",
   "metadata": {},
   "source": [
    "Se observa que la correlación entre el número de dormitorios y los metros cuadrados es sorprendentemente baja.\n",
    "¿Son de fiar esos números?\n",
    "\n",
    "Mediante un histograma o curvas de densidad podemos descartar números que no tienen sentido en el dataframe barrio_sol,\n",
    "para tener una matriz de correlación que tenga mayor sentido.\n"
   ]
  },
  {
   "cell_type": "code",
   "execution_count": 27,
   "metadata": {},
   "outputs": [
    {
     "name": "stderr",
     "output_type": "stream",
     "text": [
      "`stat_bin()` using `bins = 30`. Pick better value with `binwidth`.\n",
      "\n",
      "Warning message:\n",
      "“Removed 641 rows containing non-finite values (stat_bin).”\n",
      "Warning message:\n",
      "“Removed 641 rows containing non-finite values (stat_density).”\n"
     ]
    },
    {
     "data": {
      "image/png": "[encoded data removed]",
      "text/plain": [
       "plot without title"
      ]
     },
     "metadata": {
      "image/png": {
       "height": 480,
       "width": 840
      },
      "text/plain": {
       "height": 480,
       "width": 840
      }
     },
     "output_type": "display_data"
    }
   ],
   "source": [
    "ggplot(barrio_sol, aes(x=MetrosCuadrados)) + \n",
    " geom_histogram(aes(y=..density..), colour=borderColor, fill=fillColor)+\n",
    " geom_density(alpha=.3, fill=fillColor)+\n",
    "theme(tex=element_text(size=20))\n"
   ]
  },
  {
   "cell_type": "markdown",
   "metadata": {},
   "source": [
    "Podemos observar que hay una gran cantidad de apartamentos que tienen m² invalidos, es decir 0, lo cual nos lleva a plantearnos que los datos no son correctos."
   ]
  },
  {
   "cell_type": "markdown",
   "metadata": {},
   "source": [
    "----"
   ]
  },
  {
   "cell_type": "markdown",
   "metadata": {},
   "source": [
    "Una vez que hayamos filtrado los datos correspondientes calcular el valor o la combinación de valores que mejor nos permite obtener el precio de un inmueble."
   ]
  },
  {
   "cell_type": "code",
   "execution_count": 28,
   "metadata": {},
   "outputs": [
    {
     "data": {
      "text/html": [
       "<table>\n",
       "<caption>A data.frame: 6 × 8</caption>\n",
       "<thead>\n",
       "\t<tr><th></th><th scope=col>CodigoPostal</th><th scope=col>TipoPropiedad</th><th scope=col>TipoAlquiler</th><th scope=col>MaxOcupantes</th><th scope=col>NumDormitorios</th><th scope=col>TipoCama</th><th scope=col>Precio</th><th scope=col>MetrosCuadrados</th></tr>\n",
       "\t<tr><th></th><th scope=col>&lt;fct&gt;</th><th scope=col>&lt;fct&gt;</th><th scope=col>&lt;fct&gt;</th><th scope=col>&lt;int&gt;</th><th scope=col>&lt;int&gt;</th><th scope=col>&lt;fct&gt;</th><th scope=col>&lt;int&gt;</th><th scope=col>&lt;dbl&gt;</th></tr>\n",
       "</thead>\n",
       "<tbody>\n",
       "\t<tr><th scope=row>15</th><td>28013</td><td>Apartment</td><td>Entire home/apt</td><td> 4</td><td>1</td><td>Real Bed</td><td> 75</td><td> 60.01534</td></tr>\n",
       "\t<tr><th scope=row>25</th><td>28012</td><td>Apartment</td><td>Entire home/apt</td><td> 4</td><td>1</td><td>Real Bed</td><td>100</td><td> 69.95596</td></tr>\n",
       "\t<tr><th scope=row>46</th><td>28013</td><td>Apartment</td><td>Entire home/apt</td><td> 2</td><td>1</td><td>Real Bed</td><td> 65</td><td> 24.99091</td></tr>\n",
       "\t<tr><th scope=row>574</th><td>28014</td><td>Apartment</td><td>Entire home/apt</td><td> 8</td><td>4</td><td>Real Bed</td><td>250</td><td>200.02016</td></tr>\n",
       "\t<tr><th scope=row>684</th><td>28012</td><td>Apartment</td><td>Entire home/apt</td><td> 4</td><td>1</td><td>Real Bed</td><td>108</td><td> 49.98181</td></tr>\n",
       "\t<tr><th scope=row>690</th><td>28012</td><td>Apartment</td><td>Entire home/apt</td><td>10</td><td>2</td><td>Real Bed</td><td> 98</td><td>134.98806</td></tr>\n",
       "</tbody>\n",
       "</table>\n"
      ],
      "text/latex": [
       "A data.frame: 6 × 8\n",
       "\\begin{tabular}{r|llllllll}\n",
       "  & CodigoPostal & TipoPropiedad & TipoAlquiler & MaxOcupantes & NumDormitorios & TipoCama & Precio & MetrosCuadrados\\\\\n",
       "  & <fct> & <fct> & <fct> & <int> & <int> & <fct> & <int> & <dbl>\\\\\n",
       "\\hline\n",
       "\t15 & 28013 & Apartment & Entire home/apt &  4 & 1 & Real Bed &  75 &  60.01534\\\\\n",
       "\t25 & 28012 & Apartment & Entire home/apt &  4 & 1 & Real Bed & 100 &  69.95596\\\\\n",
       "\t46 & 28013 & Apartment & Entire home/apt &  2 & 1 & Real Bed &  65 &  24.99091\\\\\n",
       "\t574 & 28014 & Apartment & Entire home/apt &  8 & 4 & Real Bed & 250 & 200.02016\\\\\n",
       "\t684 & 28012 & Apartment & Entire home/apt &  4 & 1 & Real Bed & 108 &  49.98181\\\\\n",
       "\t690 & 28012 & Apartment & Entire home/apt & 10 & 2 & Real Bed &  98 & 134.98806\\\\\n",
       "\\end{tabular}\n"
      ],
      "text/markdown": [
       "\n",
       "A data.frame: 6 × 8\n",
       "\n",
       "| <!--/--> | CodigoPostal &lt;fct&gt; | TipoPropiedad &lt;fct&gt; | TipoAlquiler &lt;fct&gt; | MaxOcupantes &lt;int&gt; | NumDormitorios &lt;int&gt; | TipoCama &lt;fct&gt; | Precio &lt;int&gt; | MetrosCuadrados &lt;dbl&gt; |\n",
       "|---|---|---|---|---|---|---|---|---|\n",
       "| 15 | 28013 | Apartment | Entire home/apt |  4 | 1 | Real Bed |  75 |  60.01534 |\n",
       "| 25 | 28012 | Apartment | Entire home/apt |  4 | 1 | Real Bed | 100 |  69.95596 |\n",
       "| 46 | 28013 | Apartment | Entire home/apt |  2 | 1 | Real Bed |  65 |  24.99091 |\n",
       "| 574 | 28014 | Apartment | Entire home/apt |  8 | 4 | Real Bed | 250 | 200.02016 |\n",
       "| 684 | 28012 | Apartment | Entire home/apt |  4 | 1 | Real Bed | 108 |  49.98181 |\n",
       "| 690 | 28012 | Apartment | Entire home/apt | 10 | 2 | Real Bed |  98 | 134.98806 |\n",
       "\n"
      ],
      "text/plain": [
       "    CodigoPostal TipoPropiedad TipoAlquiler    MaxOcupantes NumDormitorios\n",
       "15  28013        Apartment     Entire home/apt  4           1             \n",
       "25  28012        Apartment     Entire home/apt  4           1             \n",
       "46  28013        Apartment     Entire home/apt  2           1             \n",
       "574 28014        Apartment     Entire home/apt  8           4             \n",
       "684 28012        Apartment     Entire home/apt  4           1             \n",
       "690 28012        Apartment     Entire home/apt 10           2             \n",
       "    TipoCama Precio MetrosCuadrados\n",
       "15  Real Bed  75     60.01534      \n",
       "25  Real Bed 100     69.95596      \n",
       "46  Real Bed  65     24.99091      \n",
       "574 Real Bed 250    200.02016      \n",
       "684 Real Bed 108     49.98181      \n",
       "690 Real Bed  98    134.98806      "
      ]
     },
     "metadata": {},
     "output_type": "display_data"
    }
   ],
   "source": [
    "barrio_sol_f <- na.omit(barrio_sol[barrio_sol$MetrosCuadrados>0, ])\n",
    "barrio_sol_f <- barrio_sol_f[ , c('CodigoPostal','TipoPropiedad','TipoAlquiler','MaxOcupantes','NumDormitorios','TipoCama','Precio','MetrosCuadrados' )]\n",
    "head(barrio_sol_f)"
   ]
  },
  {
   "cell_type": "markdown",
   "metadata": {},
   "source": [
    "¿Que variable es más fiable para conocer el precio de un inmueble, el número de habitaciones o los metros cuadrados?"
   ]
  },
  {
   "cell_type": "code",
   "execution_count": 29,
   "metadata": {},
   "outputs": [
    {
     "data": {
      "text/plain": [
       "                Df Sum Sq Mean Sq F value   Pr(>F)    \n",
       "NumDormitorios   1  95818   95818 128.465 1.97e-13 ***\n",
       "MetrosCuadrados  1   2061    2061   2.763    0.105    \n",
       "Residuals       36  26851     746                     \n",
       "---\n",
       "Signif. codes:  0 ‘***’ 0.001 ‘**’ 0.01 ‘*’ 0.05 ‘.’ 0.1 ‘ ’ 1"
      ]
     },
     "metadata": {},
     "output_type": "display_data"
    }
   ],
   "source": [
    "aovTest <- aov( Precio ~ NumDormitorios+MetrosCuadrados, data=barrio_sol_f)\n",
    "summary(aovTest)"
   ]
  },
  {
   "cell_type": "markdown",
   "metadata": {},
   "source": [
    "Observamos que hay mayor relación del Precio del inmueble con NumDormitorios ya que tienen un p-valor mas significativo"
   ]
  },
  {
   "cell_type": "markdown",
   "metadata": {},
   "source": [
    "---"
   ]
  },
  {
   "cell_type": "code",
   "execution_count": 30,
   "metadata": {},
   "outputs": [
    {
     "data": {
      "text/plain": [
       "\n",
       "Call:\n",
       "lm(formula = Precio ~ MetrosCuadrados, data = barrio_sol_f)\n",
       "\n",
       "Residuals:\n",
       "    Min      1Q  Median      3Q     Max \n",
       "-64.193 -20.915  -6.988  21.134 124.855 \n",
       "\n",
       "Coefficients:\n",
       "                Estimate Std. Error t value Pr(>|t|)    \n",
       "(Intercept)      46.0200    10.3072   4.465 7.27e-05 ***\n",
       "MetrosCuadrados   0.8606     0.1236   6.961 3.19e-08 ***\n",
       "---\n",
       "Signif. codes:  0 ‘***’ 0.001 ‘**’ 0.01 ‘*’ 0.05 ‘.’ 0.1 ‘ ’ 1\n",
       "\n",
       "Residual standard error: 38.2 on 37 degrees of freedom\n",
       "Multiple R-squared:  0.5671,\tAdjusted R-squared:  0.5554 \n",
       "F-statistic: 48.46 on 1 and 37 DF,  p-value: 3.191e-08\n"
      ]
     },
     "metadata": {},
     "output_type": "display_data"
    },
    {
     "data": {
      "image/png": "[encoded data removed]",
      "text/plain": [
       "plot without title"
      ]
     },
     "metadata": {
      "image/png": {
       "height": 480,
       "width": 840
      },
      "text/plain": {
       "height": 480,
       "width": 840
      }
     },
     "output_type": "display_data"
    }
   ],
   "source": [
    "sm_bs <-lm(data=barrio_sol_f,formula=Precio~MetrosCuadrados)\n",
    "summary(sm_bs)\n",
    "\n",
    "ggplot(data = sm_bs, mapping = aes(x = Precio, y = MetrosCuadrados)) +\n",
    "geom_point(color = \"firebrick\", size = 2) +\n",
    "geom_smooth(method = \"lm\", se = TRUE, color = \"black\") +\n",
    "labs(title = \"Precio ~ MetrosCuadrados\", x = \"Precio\", y = \"Metros Cuadrados\") +\n",
    "theme_bw() +\n",
    "theme(plot.title = element_text(hjust = 0.5))"
   ]
  },
  {
   "cell_type": "markdown",
   "metadata": {},
   "source": [
    "Como vemos en el resumen, la ecuacion de la recta será:\n",
    "\n",
    "\\begin{align}\n",
    "y & = 46.02 + 0.86x \\\\\n",
    "\\end{align}\n",
    "\n",
    "De este modo sabemos que la pendiente de la recta es 0.86, por lo que esto es lo que aumenta el precio por cada metro cuadrado 0.86€, dicho valor lo corroboramos y lo tomamos como fiable ya que tiene un p-valor muy pequeño.\n",
    "\n",
    "Los coeficientes inferiosres nos indican que a pesar de ser bastante fiable puede variar entre [0.61, 1.11]\n"
   ]
  },
  {
   "cell_type": "code",
   "execution_count": 31,
   "metadata": {},
   "outputs": [
    {
     "data": {
      "text/html": [
       "<table>\n",
       "<caption>A matrix: 2 × 2 of type dbl</caption>\n",
       "<thead>\n",
       "\t<tr><th></th><th scope=col>2.5 %</th><th scope=col>97.5 %</th></tr>\n",
       "</thead>\n",
       "<tbody>\n",
       "\t<tr><th scope=row>(Intercept)</th><td>25.1355673</td><td>66.904411</td></tr>\n",
       "\t<tr><th scope=row>MetrosCuadrados</th><td> 0.6101273</td><td> 1.111106</td></tr>\n",
       "</tbody>\n",
       "</table>\n"
      ],
      "text/latex": [
       "A matrix: 2 × 2 of type dbl\n",
       "\\begin{tabular}{r|ll}\n",
       "  & 2.5 \\% & 97.5 \\%\\\\\n",
       "\\hline\n",
       "\t(Intercept) & 25.1355673 & 66.904411\\\\\n",
       "\tMetrosCuadrados &  0.6101273 &  1.111106\\\\\n",
       "\\end{tabular}\n"
      ],
      "text/markdown": [
       "\n",
       "A matrix: 2 × 2 of type dbl\n",
       "\n",
       "| <!--/--> | 2.5 % | 97.5 % |\n",
       "|---|---|---|\n",
       "| (Intercept) | 25.1355673 | 66.904411 |\n",
       "| MetrosCuadrados |  0.6101273 |  1.111106 |\n",
       "\n"
      ],
      "text/plain": [
       "                2.5 %      97.5 %   \n",
       "(Intercept)     25.1355673 66.904411\n",
       "MetrosCuadrados  0.6101273  1.111106"
      ]
     },
     "metadata": {},
     "output_type": "display_data"
    }
   ],
   "source": [
    "confint(sm_bs)"
   ]
  },
  {
   "cell_type": "markdown",
   "metadata": {},
   "source": [
    "-------"
   ]
  },
  {
   "cell_type": "code",
   "execution_count": 32,
   "metadata": {},
   "outputs": [
    {
     "data": {
      "text/plain": [
       "\n",
       "Call:\n",
       "lm(formula = Precio ~ NumDormitorios, data = barrio_sol_f)\n",
       "\n",
       "Residuals:\n",
       "   Min     1Q Median     3Q    Max \n",
       "-94.92 -15.76  -3.76  19.24  56.08 \n",
       "\n",
       "Coefficients:\n",
       "               Estimate Std. Error t value Pr(>|t|)    \n",
       "(Intercept)      39.970      7.296   5.478 3.19e-06 ***\n",
       "NumDormitorios   40.790      3.684  11.073 2.65e-13 ***\n",
       "---\n",
       "Signif. codes:  0 ‘***’ 0.001 ‘**’ 0.01 ‘*’ 0.05 ‘.’ 0.1 ‘ ’ 1\n",
       "\n",
       "Residual standard error: 27.95 on 37 degrees of freedom\n",
       "Multiple R-squared:  0.7682,\tAdjusted R-squared:  0.7619 \n",
       "F-statistic: 122.6 on 1 and 37 DF,  p-value: 2.651e-13\n"
      ]
     },
     "metadata": {},
     "output_type": "display_data"
    },
    {
     "data": {
      "image/png": "[encoded data removed]",
      "text/plain": [
       "plot without title"
      ]
     },
     "metadata": {
      "image/png": {
       "height": 480,
       "width": 840
      },
      "text/plain": {
       "height": 480,
       "width": 840
      }
     },
     "output_type": "display_data"
    }
   ],
   "source": [
    "nr_bs <-lm(data=barrio_sol_f,formula=Precio~NumDormitorios)\n",
    "summary(nr_bs)\n",
    "\n",
    "ggplot(data = nr_bs, mapping = aes(x = Precio, y = NumDormitorios)) +\n",
    "geom_point(color = \"firebrick\", size = 2) +\n",
    "geom_smooth(method = \"lm\", se = TRUE, color = \"black\") +\n",
    "labs(title = \"Precio ~ NumDormitorios\", x = \"Precio\", y = \"NumDormitorios\") +\n",
    "theme_bw() + \n",
    "theme(plot.title = element_text(hjust = 0.5)) "
   ]
  },
  {
   "cell_type": "markdown",
   "metadata": {},
   "source": [
    "Como vemos en el resumen, la ecuacion de la recta será:\n",
    "\n",
    "\\begin{align}\n",
    "y & = 39.97 + 40.79x \\\\\n",
    "\\end{align}\n",
    "\n",
    "De este modo sabemos que la pendiente de la recta es 40.79, por lo que esto es lo que aumenta el precio por cada dormitorio extra 40.79€ por lo que esto es lo que aumenta el precio por cada metro cuadrado 0.86€, dicho valor lo corroboramos y lo tomamos como fiable ya que tiene un p-valor muy pequeño.\n",
    "\n",
    "Los coeficientes inferiosres nos indican que a pesar de ser bastante fiable puede variar entre [33.32, 48.25]\n"
   ]
  },
  {
   "cell_type": "code",
   "execution_count": 33,
   "metadata": {},
   "outputs": [
    {
     "data": {
      "text/html": [
       "<table>\n",
       "<caption>A matrix: 2 × 2 of type dbl</caption>\n",
       "<thead>\n",
       "\t<tr><th></th><th scope=col>2.5 %</th><th scope=col>97.5 %</th></tr>\n",
       "</thead>\n",
       "<tbody>\n",
       "\t<tr><th scope=row>(Intercept)</th><td>25.18671</td><td>54.75274</td></tr>\n",
       "\t<tr><th scope=row>NumDormitorios</th><td>33.32623</td><td>48.25347</td></tr>\n",
       "</tbody>\n",
       "</table>\n"
      ],
      "text/latex": [
       "A matrix: 2 × 2 of type dbl\n",
       "\\begin{tabular}{r|ll}\n",
       "  & 2.5 \\% & 97.5 \\%\\\\\n",
       "\\hline\n",
       "\t(Intercept) & 25.18671 & 54.75274\\\\\n",
       "\tNumDormitorios & 33.32623 & 48.25347\\\\\n",
       "\\end{tabular}\n"
      ],
      "text/markdown": [
       "\n",
       "A matrix: 2 × 2 of type dbl\n",
       "\n",
       "| <!--/--> | 2.5 % | 97.5 % |\n",
       "|---|---|---|\n",
       "| (Intercept) | 25.18671 | 54.75274 |\n",
       "| NumDormitorios | 33.32623 | 48.25347 |\n",
       "\n"
      ],
      "text/plain": [
       "               2.5 %    97.5 %  \n",
       "(Intercept)    25.18671 54.75274\n",
       "NumDormitorios 33.32623 48.25347"
      ]
     },
     "metadata": {},
     "output_type": "display_data"
    }
   ],
   "source": [
    "confint(nr_bs)"
   ]
  },
  {
   "cell_type": "markdown",
   "metadata": {},
   "source": [
    "---"
   ]
  },
  {
   "cell_type": "markdown",
   "metadata": {},
   "source": [
    "¿Cual es la probabilidad de encontrar, en el barrio de Sol, un apartamento en alquiler con 3 dormitorios?\n",
    "¿Cual es el margen de error de esa probabilidad?"
   ]
  },
  {
   "cell_type": "code",
   "execution_count": 34,
   "metadata": {},
   "outputs": [
    {
     "ename": "ERROR",
     "evalue": "Error in qt(1 - p_tb/2, items - 1): object 'items' not found\n",
     "output_type": "error",
     "traceback": [
      "Error in qt(1 - p_tb/2, items - 1): object 'items' not found\nTraceback:\n",
      "1. qt(1 - p_tb/2, items - 1)"
     ]
    }
   ],
   "source": [
    "p_tb <- nrow(barrio_sol_f[barrio_sol_f$NumDormitorios == 3,]) / nrow(barrio_sol_f)\n",
    "mn_p <- mean(barrio_sol_f$NumDormitorios)\n",
    "error_tb<-qt(1-p_tb/2,items-1)*sd(barrio_sol_f$NumDormitorios)/sqrt(items)\n",
    "paste(\"La probabilidad de encontrar un apartamento con 3 dormitorios en Sol es:\", p_tb)\n",
    "paste(\"El margen de error será: [\",mn_p-error_tb,\",\",mn_p+error_tb,\"]\")"
   ]
  },
  {
   "cell_type": "code",
   "execution_count": null,
   "metadata": {},
   "outputs": [],
   "source": []
  }
 ],
 "metadata": {
  "kernelspec": {
   "display_name": "R",
   "language": "R",
   "name": "ir"
  },
  "language_info": {
   "codemirror_mode": "r",
   "file_extension": ".r",
   "mimetype": "text/x-r-source",
   "name": "R",
   "pygments_lexer": "r",
   "version": "3.6.0"
  }
 },
 "nbformat": 4,
 "nbformat_minor": 2
}
